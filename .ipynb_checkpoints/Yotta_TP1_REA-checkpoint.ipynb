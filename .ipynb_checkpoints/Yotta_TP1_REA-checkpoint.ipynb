{
 "cells": [
  {
   "cell_type": "code",
   "execution_count": 92,
   "metadata": {},
   "outputs": [],
   "source": [
    "import pandas as pd\n",
    "import numpy as np\n",
    "import re\n",
    "from datetime import datetime, timedelta\n",
    "import calendar"
   ]
  },
  {
   "cell_type": "code",
   "execution_count": 3,
   "metadata": {},
   "outputs": [],
   "source": [
    "data = pd.read_csv('initial_dataset.csv')"
   ]
  },
  {
   "cell_type": "code",
   "execution_count": 4,
   "metadata": {},
   "outputs": [],
   "source": [
    "data_cities = data[~(data['ville'] == 'Paris')]"
   ]
  },
  {
   "cell_type": "code",
   "execution_count": 5,
   "metadata": {},
   "outputs": [
    {
     "name": "stderr",
     "output_type": "stream",
     "text": [
      "/opt/anaconda3/lib/python3.7/site-packages/pandas/core/indexing.py:1596: SettingWithCopyWarning: \n",
      "A value is trying to be set on a copy of a slice from a DataFrame.\n",
      "Try using .loc[row_indexer,col_indexer] = value instead\n",
      "\n",
      "See the caveats in the documentation: https://pandas.pydata.org/pandas-docs/stable/user_guide/indexing.html#returning-a-view-versus-a-copy\n",
      "  self.obj[key] = _infer_fill_value(value)\n",
      "/opt/anaconda3/lib/python3.7/site-packages/pandas/core/indexing.py:1745: SettingWithCopyWarning: \n",
      "A value is trying to be set on a copy of a slice from a DataFrame.\n",
      "Try using .loc[row_indexer,col_indexer] = value instead\n",
      "\n",
      "See the caveats in the documentation: https://pandas.pydata.org/pandas-docs/stable/user_guide/indexing.html#returning-a-view-versus-a-copy\n",
      "  isetter(ilocs[0], value)\n"
     ]
    }
   ],
   "source": [
    "data_cities.loc[:, 'processed_date'] = data_cities.loc[:, 'date'].apply(lambda row : datetime(int(row.split('-', 2)[0]), int(row.split('-', 2)[1]), int(row.split('-', 2)[2])))"
   ]
  },
  {
   "cell_type": "code",
   "execution_count": 6,
   "metadata": {},
   "outputs": [
    {
     "data": {
      "text/html": [
       "<div>\n",
       "<style scoped>\n",
       "    .dataframe tbody tr th:only-of-type {\n",
       "        vertical-align: middle;\n",
       "    }\n",
       "\n",
       "    .dataframe tbody tr th {\n",
       "        vertical-align: top;\n",
       "    }\n",
       "\n",
       "    .dataframe thead th {\n",
       "        text-align: right;\n",
       "    }\n",
       "</style>\n",
       "<table border=\"1\" class=\"dataframe\">\n",
       "  <thead>\n",
       "    <tr style=\"text-align: right;\">\n",
       "      <th></th>\n",
       "      <th>date</th>\n",
       "      <th>equipement</th>\n",
       "      <th>ville</th>\n",
       "      <th>CA</th>\n",
       "      <th>processed_date</th>\n",
       "    </tr>\n",
       "  </thead>\n",
       "  <tbody>\n",
       "    <tr>\n",
       "      <th>3285</th>\n",
       "      <td>2017-01-01</td>\n",
       "      <td>ordinateur</td>\n",
       "      <td>Bordeaux</td>\n",
       "      <td>270.941633</td>\n",
       "      <td>2017-01-01</td>\n",
       "    </tr>\n",
       "    <tr>\n",
       "      <th>3286</th>\n",
       "      <td>2017-01-02</td>\n",
       "      <td>ordinateur</td>\n",
       "      <td>Bordeaux</td>\n",
       "      <td>1894.634278</td>\n",
       "      <td>2017-01-02</td>\n",
       "    </tr>\n",
       "    <tr>\n",
       "      <th>3287</th>\n",
       "      <td>2017-01-03</td>\n",
       "      <td>ordinateur</td>\n",
       "      <td>Bordeaux</td>\n",
       "      <td>1963.790266</td>\n",
       "      <td>2017-01-03</td>\n",
       "    </tr>\n",
       "    <tr>\n",
       "      <th>3288</th>\n",
       "      <td>2017-01-04</td>\n",
       "      <td>ordinateur</td>\n",
       "      <td>Bordeaux</td>\n",
       "      <td>1560.772008</td>\n",
       "      <td>2017-01-04</td>\n",
       "    </tr>\n",
       "    <tr>\n",
       "      <th>3289</th>\n",
       "      <td>2017-01-05</td>\n",
       "      <td>ordinateur</td>\n",
       "      <td>Bordeaux</td>\n",
       "      <td>1370.575521</td>\n",
       "      <td>2017-01-05</td>\n",
       "    </tr>\n",
       "    <tr>\n",
       "      <th>...</th>\n",
       "      <td>...</td>\n",
       "      <td>...</td>\n",
       "      <td>...</td>\n",
       "      <td>...</td>\n",
       "      <td>...</td>\n",
       "    </tr>\n",
       "    <tr>\n",
       "      <th>9850</th>\n",
       "      <td>2019-12-27</td>\n",
       "      <td>accessoires</td>\n",
       "      <td>Mont de Marsan</td>\n",
       "      <td>63.075136</td>\n",
       "      <td>2019-12-27</td>\n",
       "    </tr>\n",
       "    <tr>\n",
       "      <th>9851</th>\n",
       "      <td>2019-12-28</td>\n",
       "      <td>accessoires</td>\n",
       "      <td>Mont de Marsan</td>\n",
       "      <td>18.267467</td>\n",
       "      <td>2019-12-28</td>\n",
       "    </tr>\n",
       "    <tr>\n",
       "      <th>9852</th>\n",
       "      <td>2019-12-29</td>\n",
       "      <td>accessoires</td>\n",
       "      <td>Mont de Marsan</td>\n",
       "      <td>94.673079</td>\n",
       "      <td>2019-12-29</td>\n",
       "    </tr>\n",
       "    <tr>\n",
       "      <th>9853</th>\n",
       "      <td>2019-12-30</td>\n",
       "      <td>accessoires</td>\n",
       "      <td>Mont de Marsan</td>\n",
       "      <td>12.928690</td>\n",
       "      <td>2019-12-30</td>\n",
       "    </tr>\n",
       "    <tr>\n",
       "      <th>9854</th>\n",
       "      <td>2019-12-31</td>\n",
       "      <td>accessoires</td>\n",
       "      <td>Mont de Marsan</td>\n",
       "      <td>27.167088</td>\n",
       "      <td>2019-12-31</td>\n",
       "    </tr>\n",
       "  </tbody>\n",
       "</table>\n",
       "<p>6570 rows × 5 columns</p>\n",
       "</div>"
      ],
      "text/plain": [
       "            date   equipement           ville           CA processed_date\n",
       "3285  2017-01-01   ordinateur        Bordeaux   270.941633     2017-01-01\n",
       "3286  2017-01-02   ordinateur        Bordeaux  1894.634278     2017-01-02\n",
       "3287  2017-01-03   ordinateur        Bordeaux  1963.790266     2017-01-03\n",
       "3288  2017-01-04   ordinateur        Bordeaux  1560.772008     2017-01-04\n",
       "3289  2017-01-05   ordinateur        Bordeaux  1370.575521     2017-01-05\n",
       "...          ...          ...             ...          ...            ...\n",
       "9850  2019-12-27  accessoires  Mont de Marsan    63.075136     2019-12-27\n",
       "9851  2019-12-28  accessoires  Mont de Marsan    18.267467     2019-12-28\n",
       "9852  2019-12-29  accessoires  Mont de Marsan    94.673079     2019-12-29\n",
       "9853  2019-12-30  accessoires  Mont de Marsan    12.928690     2019-12-30\n",
       "9854  2019-12-31  accessoires  Mont de Marsan    27.167088     2019-12-31\n",
       "\n",
       "[6570 rows x 5 columns]"
      ]
     },
     "execution_count": 6,
     "metadata": {},
     "output_type": "execute_result"
    }
   ],
   "source": [
    "data_cities"
   ]
  },
  {
   "cell_type": "code",
   "execution_count": 7,
   "metadata": {},
   "outputs": [
    {
     "name": "stderr",
     "output_type": "stream",
     "text": [
      "/opt/anaconda3/lib/python3.7/site-packages/ipykernel_launcher.py:1: SettingWithCopyWarning: \n",
      "A value is trying to be set on a copy of a slice from a DataFrame.\n",
      "Try using .loc[row_indexer,col_indexer] = value instead\n",
      "\n",
      "See the caveats in the documentation: https://pandas.pydata.org/pandas-docs/stable/user_guide/indexing.html#returning-a-view-versus-a-copy\n",
      "  \"\"\"Entry point for launching an IPython kernel.\n"
     ]
    },
    {
     "data": {
      "text/plain": [
       "3285   2016-01-02\n",
       "3286   2016-01-03\n",
       "3287   2016-01-04\n",
       "3288   2016-01-05\n",
       "3289   2016-01-06\n",
       "          ...    \n",
       "9850   2018-12-27\n",
       "9851   2018-12-28\n",
       "9852   2018-12-29\n",
       "9853   2018-12-30\n",
       "9854   2018-12-31\n",
       "Name: previous_year, Length: 6570, dtype: datetime64[ns]"
      ]
     },
     "execution_count": 7,
     "metadata": {},
     "output_type": "execute_result"
    }
   ],
   "source": [
    "data_cities['previous_year'] = data_cities['processed_date'].apply(lambda row : row - timedelta(days=365))\n",
    "data_cities['previous_year']"
   ]
  },
  {
   "cell_type": "code",
   "execution_count": 11,
   "metadata": {},
   "outputs": [
    {
     "data": {
      "text/html": [
       "<div>\n",
       "<style scoped>\n",
       "    .dataframe tbody tr th:only-of-type {\n",
       "        vertical-align: middle;\n",
       "    }\n",
       "\n",
       "    .dataframe tbody tr th {\n",
       "        vertical-align: top;\n",
       "    }\n",
       "\n",
       "    .dataframe thead th {\n",
       "        text-align: right;\n",
       "    }\n",
       "</style>\n",
       "<table border=\"1\" class=\"dataframe\">\n",
       "  <thead>\n",
       "    <tr style=\"text-align: right;\">\n",
       "      <th></th>\n",
       "      <th>date</th>\n",
       "      <th>equipement</th>\n",
       "      <th>ville</th>\n",
       "      <th>CA</th>\n",
       "      <th>processed_date</th>\n",
       "      <th>previous_year</th>\n",
       "    </tr>\n",
       "  </thead>\n",
       "  <tbody>\n",
       "    <tr>\n",
       "      <th>3285</th>\n",
       "      <td>2017-01-01</td>\n",
       "      <td>ordinateur</td>\n",
       "      <td>Bordeaux</td>\n",
       "      <td>270.941633</td>\n",
       "      <td>2017-01-01</td>\n",
       "      <td>2016-01-02</td>\n",
       "    </tr>\n",
       "    <tr>\n",
       "      <th>3286</th>\n",
       "      <td>2017-01-02</td>\n",
       "      <td>ordinateur</td>\n",
       "      <td>Bordeaux</td>\n",
       "      <td>1894.634278</td>\n",
       "      <td>2017-01-02</td>\n",
       "      <td>2016-01-03</td>\n",
       "    </tr>\n",
       "    <tr>\n",
       "      <th>3287</th>\n",
       "      <td>2017-01-03</td>\n",
       "      <td>ordinateur</td>\n",
       "      <td>Bordeaux</td>\n",
       "      <td>1963.790266</td>\n",
       "      <td>2017-01-03</td>\n",
       "      <td>2016-01-04</td>\n",
       "    </tr>\n",
       "    <tr>\n",
       "      <th>3288</th>\n",
       "      <td>2017-01-04</td>\n",
       "      <td>ordinateur</td>\n",
       "      <td>Bordeaux</td>\n",
       "      <td>1560.772008</td>\n",
       "      <td>2017-01-04</td>\n",
       "      <td>2016-01-05</td>\n",
       "    </tr>\n",
       "    <tr>\n",
       "      <th>3289</th>\n",
       "      <td>2017-01-05</td>\n",
       "      <td>ordinateur</td>\n",
       "      <td>Bordeaux</td>\n",
       "      <td>1370.575521</td>\n",
       "      <td>2017-01-05</td>\n",
       "      <td>2016-01-06</td>\n",
       "    </tr>\n",
       "    <tr>\n",
       "      <th>...</th>\n",
       "      <td>...</td>\n",
       "      <td>...</td>\n",
       "      <td>...</td>\n",
       "      <td>...</td>\n",
       "      <td>...</td>\n",
       "      <td>...</td>\n",
       "    </tr>\n",
       "    <tr>\n",
       "      <th>9850</th>\n",
       "      <td>2019-12-27</td>\n",
       "      <td>accessoires</td>\n",
       "      <td>Mont de Marsan</td>\n",
       "      <td>63.075136</td>\n",
       "      <td>2019-12-27</td>\n",
       "      <td>2018-12-27</td>\n",
       "    </tr>\n",
       "    <tr>\n",
       "      <th>9851</th>\n",
       "      <td>2019-12-28</td>\n",
       "      <td>accessoires</td>\n",
       "      <td>Mont de Marsan</td>\n",
       "      <td>18.267467</td>\n",
       "      <td>2019-12-28</td>\n",
       "      <td>2018-12-28</td>\n",
       "    </tr>\n",
       "    <tr>\n",
       "      <th>9852</th>\n",
       "      <td>2019-12-29</td>\n",
       "      <td>accessoires</td>\n",
       "      <td>Mont de Marsan</td>\n",
       "      <td>94.673079</td>\n",
       "      <td>2019-12-29</td>\n",
       "      <td>2018-12-29</td>\n",
       "    </tr>\n",
       "    <tr>\n",
       "      <th>9853</th>\n",
       "      <td>2019-12-30</td>\n",
       "      <td>accessoires</td>\n",
       "      <td>Mont de Marsan</td>\n",
       "      <td>12.928690</td>\n",
       "      <td>2019-12-30</td>\n",
       "      <td>2018-12-30</td>\n",
       "    </tr>\n",
       "    <tr>\n",
       "      <th>9854</th>\n",
       "      <td>2019-12-31</td>\n",
       "      <td>accessoires</td>\n",
       "      <td>Mont de Marsan</td>\n",
       "      <td>27.167088</td>\n",
       "      <td>2019-12-31</td>\n",
       "      <td>2018-12-31</td>\n",
       "    </tr>\n",
       "  </tbody>\n",
       "</table>\n",
       "<p>6570 rows × 6 columns</p>\n",
       "</div>"
      ],
      "text/plain": [
       "            date   equipement           ville           CA processed_date  \\\n",
       "3285  2017-01-01   ordinateur        Bordeaux   270.941633     2017-01-01   \n",
       "3286  2017-01-02   ordinateur        Bordeaux  1894.634278     2017-01-02   \n",
       "3287  2017-01-03   ordinateur        Bordeaux  1963.790266     2017-01-03   \n",
       "3288  2017-01-04   ordinateur        Bordeaux  1560.772008     2017-01-04   \n",
       "3289  2017-01-05   ordinateur        Bordeaux  1370.575521     2017-01-05   \n",
       "...          ...          ...             ...          ...            ...   \n",
       "9850  2019-12-27  accessoires  Mont de Marsan    63.075136     2019-12-27   \n",
       "9851  2019-12-28  accessoires  Mont de Marsan    18.267467     2019-12-28   \n",
       "9852  2019-12-29  accessoires  Mont de Marsan    94.673079     2019-12-29   \n",
       "9853  2019-12-30  accessoires  Mont de Marsan    12.928690     2019-12-30   \n",
       "9854  2019-12-31  accessoires  Mont de Marsan    27.167088     2019-12-31   \n",
       "\n",
       "     previous_year  \n",
       "3285    2016-01-02  \n",
       "3286    2016-01-03  \n",
       "3287    2016-01-04  \n",
       "3288    2016-01-05  \n",
       "3289    2016-01-06  \n",
       "...            ...  \n",
       "9850    2018-12-27  \n",
       "9851    2018-12-28  \n",
       "9852    2018-12-29  \n",
       "9853    2018-12-30  \n",
       "9854    2018-12-31  \n",
       "\n",
       "[6570 rows x 6 columns]"
      ]
     },
     "execution_count": 11,
     "metadata": {},
     "output_type": "execute_result"
    }
   ],
   "source": [
    "data_cities"
   ]
  },
  {
   "cell_type": "code",
   "execution_count": 12,
   "metadata": {},
   "outputs": [
    {
     "data": {
      "text/html": [
       "<div>\n",
       "<style scoped>\n",
       "    .dataframe tbody tr th:only-of-type {\n",
       "        vertical-align: middle;\n",
       "    }\n",
       "\n",
       "    .dataframe tbody tr th {\n",
       "        vertical-align: top;\n",
       "    }\n",
       "\n",
       "    .dataframe thead th {\n",
       "        text-align: right;\n",
       "    }\n",
       "</style>\n",
       "<table border=\"1\" class=\"dataframe\">\n",
       "  <thead>\n",
       "    <tr style=\"text-align: right;\">\n",
       "      <th></th>\n",
       "      <th>ville</th>\n",
       "      <th>equipement</th>\n",
       "      <th>CA</th>\n",
       "    </tr>\n",
       "  </thead>\n",
       "  <tbody>\n",
       "    <tr>\n",
       "      <th>0</th>\n",
       "      <td>Bordeaux</td>\n",
       "      <td>accessoires</td>\n",
       "      <td>7.785279e+04</td>\n",
       "    </tr>\n",
       "    <tr>\n",
       "      <th>1</th>\n",
       "      <td>Bordeaux</td>\n",
       "      <td>ordinateur</td>\n",
       "      <td>3.217173e+06</td>\n",
       "    </tr>\n",
       "    <tr>\n",
       "      <th>2</th>\n",
       "      <td>Bordeaux</td>\n",
       "      <td>téléphone</td>\n",
       "      <td>6.566389e+05</td>\n",
       "    </tr>\n",
       "    <tr>\n",
       "      <th>3</th>\n",
       "      <td>Mont de Marsan</td>\n",
       "      <td>accessoires</td>\n",
       "      <td>7.569744e+04</td>\n",
       "    </tr>\n",
       "    <tr>\n",
       "      <th>4</th>\n",
       "      <td>Mont de Marsan</td>\n",
       "      <td>ordinateur</td>\n",
       "      <td>3.326700e+06</td>\n",
       "    </tr>\n",
       "    <tr>\n",
       "      <th>5</th>\n",
       "      <td>Mont de Marsan</td>\n",
       "      <td>téléphone</td>\n",
       "      <td>6.833783e+05</td>\n",
       "    </tr>\n",
       "  </tbody>\n",
       "</table>\n",
       "</div>"
      ],
      "text/plain": [
       "            ville   equipement            CA\n",
       "0        Bordeaux  accessoires  7.785279e+04\n",
       "1        Bordeaux   ordinateur  3.217173e+06\n",
       "2        Bordeaux    téléphone  6.566389e+05\n",
       "3  Mont de Marsan  accessoires  7.569744e+04\n",
       "4  Mont de Marsan   ordinateur  3.326700e+06\n",
       "5  Mont de Marsan    téléphone  6.833783e+05"
      ]
     },
     "execution_count": 12,
     "metadata": {},
     "output_type": "execute_result"
    }
   ],
   "source": [
    "CA_cum = data_cities.groupby(by=['ville', 'equipement']).sum().reset_index()\n",
    "CA_cum"
   ]
  },
  {
   "cell_type": "code",
   "execution_count": 97,
   "metadata": {},
   "outputs": [
    {
     "ename": "ValueError",
     "evalue": "Can only compare identically-labeled Series objects",
     "output_type": "error",
     "traceback": [
      "\u001b[0;31m---------------------------------------------------------------------------\u001b[0m",
      "\u001b[0;31mValueError\u001b[0m                                Traceback (most recent call last)",
      "\u001b[0;32m<ipython-input-97-48cceea313a4>\u001b[0m in \u001b[0;36m<module>\u001b[0;34m\u001b[0m\n\u001b[1;32m      3\u001b[0m                   (CA_cum['equipement'] == row['equipement'])]['CA']\n\u001b[1;32m      4\u001b[0m \u001b[0;34m\u001b[0m\u001b[0m\n\u001b[0;32m----> 5\u001b[0;31m \u001b[0mdata_cities\u001b[0m \u001b[0;34m=\u001b[0m \u001b[0mdata_cities\u001b[0m\u001b[0;34m.\u001b[0m\u001b[0massign\u001b[0m\u001b[0;34m(\u001b[0m \u001b[0mCA_cumul\u001b[0m \u001b[0;34m=\u001b[0m \u001b[0;32mlambda\u001b[0m \u001b[0mrow\u001b[0m \u001b[0;34m:\u001b[0m \u001b[0mCA_cum_f\u001b[0m\u001b[0;34m(\u001b[0m\u001b[0mrow\u001b[0m\u001b[0;34m)\u001b[0m \u001b[0;34m)\u001b[0m\u001b[0;34m\u001b[0m\u001b[0;34m\u001b[0m\u001b[0m\n\u001b[0m",
      "\u001b[0;32m/opt/anaconda3/lib/python3.7/site-packages/pandas/core/frame.py\u001b[0m in \u001b[0;36massign\u001b[0;34m(self, **kwargs)\u001b[0m\n\u001b[1;32m   3693\u001b[0m \u001b[0;34m\u001b[0m\u001b[0m\n\u001b[1;32m   3694\u001b[0m         \u001b[0;32mfor\u001b[0m \u001b[0mk\u001b[0m\u001b[0;34m,\u001b[0m \u001b[0mv\u001b[0m \u001b[0;32min\u001b[0m \u001b[0mkwargs\u001b[0m\u001b[0;34m.\u001b[0m\u001b[0mitems\u001b[0m\u001b[0;34m(\u001b[0m\u001b[0;34m)\u001b[0m\u001b[0;34m:\u001b[0m\u001b[0;34m\u001b[0m\u001b[0;34m\u001b[0m\u001b[0m\n\u001b[0;32m-> 3695\u001b[0;31m             \u001b[0mdata\u001b[0m\u001b[0;34m[\u001b[0m\u001b[0mk\u001b[0m\u001b[0;34m]\u001b[0m \u001b[0;34m=\u001b[0m \u001b[0mcom\u001b[0m\u001b[0;34m.\u001b[0m\u001b[0mapply_if_callable\u001b[0m\u001b[0;34m(\u001b[0m\u001b[0mv\u001b[0m\u001b[0;34m,\u001b[0m \u001b[0mdata\u001b[0m\u001b[0;34m)\u001b[0m\u001b[0;34m\u001b[0m\u001b[0;34m\u001b[0m\u001b[0m\n\u001b[0m\u001b[1;32m   3696\u001b[0m         \u001b[0;32mreturn\u001b[0m \u001b[0mdata\u001b[0m\u001b[0;34m\u001b[0m\u001b[0;34m\u001b[0m\u001b[0m\n\u001b[1;32m   3697\u001b[0m \u001b[0;34m\u001b[0m\u001b[0m\n",
      "\u001b[0;32m/opt/anaconda3/lib/python3.7/site-packages/pandas/core/common.py\u001b[0m in \u001b[0;36mapply_if_callable\u001b[0;34m(maybe_callable, obj, **kwargs)\u001b[0m\n\u001b[1;32m    339\u001b[0m     \"\"\"\n\u001b[1;32m    340\u001b[0m     \u001b[0;32mif\u001b[0m \u001b[0mcallable\u001b[0m\u001b[0;34m(\u001b[0m\u001b[0mmaybe_callable\u001b[0m\u001b[0;34m)\u001b[0m\u001b[0;34m:\u001b[0m\u001b[0;34m\u001b[0m\u001b[0;34m\u001b[0m\u001b[0m\n\u001b[0;32m--> 341\u001b[0;31m         \u001b[0;32mreturn\u001b[0m \u001b[0mmaybe_callable\u001b[0m\u001b[0;34m(\u001b[0m\u001b[0mobj\u001b[0m\u001b[0;34m,\u001b[0m \u001b[0;34m**\u001b[0m\u001b[0mkwargs\u001b[0m\u001b[0;34m)\u001b[0m\u001b[0;34m\u001b[0m\u001b[0;34m\u001b[0m\u001b[0m\n\u001b[0m\u001b[1;32m    342\u001b[0m \u001b[0;34m\u001b[0m\u001b[0m\n\u001b[1;32m    343\u001b[0m     \u001b[0;32mreturn\u001b[0m \u001b[0mmaybe_callable\u001b[0m\u001b[0;34m\u001b[0m\u001b[0;34m\u001b[0m\u001b[0m\n",
      "\u001b[0;32m<ipython-input-97-48cceea313a4>\u001b[0m in \u001b[0;36m<lambda>\u001b[0;34m(row)\u001b[0m\n\u001b[1;32m      3\u001b[0m                   (CA_cum['equipement'] == row['equipement'])]['CA']\n\u001b[1;32m      4\u001b[0m \u001b[0;34m\u001b[0m\u001b[0m\n\u001b[0;32m----> 5\u001b[0;31m \u001b[0mdata_cities\u001b[0m \u001b[0;34m=\u001b[0m \u001b[0mdata_cities\u001b[0m\u001b[0;34m.\u001b[0m\u001b[0massign\u001b[0m\u001b[0;34m(\u001b[0m \u001b[0mCA_cumul\u001b[0m \u001b[0;34m=\u001b[0m \u001b[0;32mlambda\u001b[0m \u001b[0mrow\u001b[0m \u001b[0;34m:\u001b[0m \u001b[0mCA_cum_f\u001b[0m\u001b[0;34m(\u001b[0m\u001b[0mrow\u001b[0m\u001b[0;34m)\u001b[0m \u001b[0;34m)\u001b[0m\u001b[0;34m\u001b[0m\u001b[0;34m\u001b[0m\u001b[0m\n\u001b[0m",
      "\u001b[0;32m<ipython-input-97-48cceea313a4>\u001b[0m in \u001b[0;36mCA_cum_f\u001b[0;34m(row)\u001b[0m\n\u001b[1;32m      1\u001b[0m \u001b[0;32mdef\u001b[0m \u001b[0mCA_cum_f\u001b[0m\u001b[0;34m(\u001b[0m\u001b[0mrow\u001b[0m\u001b[0;34m)\u001b[0m \u001b[0;34m:\u001b[0m\u001b[0;34m\u001b[0m\u001b[0;34m\u001b[0m\u001b[0m\n\u001b[0;32m----> 2\u001b[0;31m     return CA_cum[(CA_cum['ville'] == row['ville']) & \\\n\u001b[0m\u001b[1;32m      3\u001b[0m                   (CA_cum['equipement'] == row['equipement'])]['CA']\n\u001b[1;32m      4\u001b[0m \u001b[0;34m\u001b[0m\u001b[0m\n\u001b[1;32m      5\u001b[0m \u001b[0mdata_cities\u001b[0m \u001b[0;34m=\u001b[0m \u001b[0mdata_cities\u001b[0m\u001b[0;34m.\u001b[0m\u001b[0massign\u001b[0m\u001b[0;34m(\u001b[0m \u001b[0mCA_cumul\u001b[0m \u001b[0;34m=\u001b[0m \u001b[0;32mlambda\u001b[0m \u001b[0mrow\u001b[0m \u001b[0;34m:\u001b[0m \u001b[0mCA_cum_f\u001b[0m\u001b[0;34m(\u001b[0m\u001b[0mrow\u001b[0m\u001b[0;34m)\u001b[0m \u001b[0;34m)\u001b[0m\u001b[0;34m\u001b[0m\u001b[0;34m\u001b[0m\u001b[0m\n",
      "\u001b[0;32m/opt/anaconda3/lib/python3.7/site-packages/pandas/core/ops/common.py\u001b[0m in \u001b[0;36mnew_method\u001b[0;34m(self, other)\u001b[0m\n\u001b[1;32m     63\u001b[0m         \u001b[0mother\u001b[0m \u001b[0;34m=\u001b[0m \u001b[0mitem_from_zerodim\u001b[0m\u001b[0;34m(\u001b[0m\u001b[0mother\u001b[0m\u001b[0;34m)\u001b[0m\u001b[0;34m\u001b[0m\u001b[0;34m\u001b[0m\u001b[0m\n\u001b[1;32m     64\u001b[0m \u001b[0;34m\u001b[0m\u001b[0m\n\u001b[0;32m---> 65\u001b[0;31m         \u001b[0;32mreturn\u001b[0m \u001b[0mmethod\u001b[0m\u001b[0;34m(\u001b[0m\u001b[0mself\u001b[0m\u001b[0;34m,\u001b[0m \u001b[0mother\u001b[0m\u001b[0;34m)\u001b[0m\u001b[0;34m\u001b[0m\u001b[0;34m\u001b[0m\u001b[0m\n\u001b[0m\u001b[1;32m     66\u001b[0m \u001b[0;34m\u001b[0m\u001b[0m\n\u001b[1;32m     67\u001b[0m     \u001b[0;32mreturn\u001b[0m \u001b[0mnew_method\u001b[0m\u001b[0;34m\u001b[0m\u001b[0;34m\u001b[0m\u001b[0m\n",
      "\u001b[0;32m/opt/anaconda3/lib/python3.7/site-packages/pandas/core/ops/__init__.py\u001b[0m in \u001b[0;36mwrapper\u001b[0;34m(self, other)\u001b[0m\n\u001b[1;32m    363\u001b[0m \u001b[0;34m\u001b[0m\u001b[0m\n\u001b[1;32m    364\u001b[0m         \u001b[0;32mif\u001b[0m \u001b[0misinstance\u001b[0m\u001b[0;34m(\u001b[0m\u001b[0mother\u001b[0m\u001b[0;34m,\u001b[0m \u001b[0mABCSeries\u001b[0m\u001b[0;34m)\u001b[0m \u001b[0;32mand\u001b[0m \u001b[0;32mnot\u001b[0m \u001b[0mself\u001b[0m\u001b[0;34m.\u001b[0m\u001b[0m_indexed_same\u001b[0m\u001b[0;34m(\u001b[0m\u001b[0mother\u001b[0m\u001b[0;34m)\u001b[0m\u001b[0;34m:\u001b[0m\u001b[0;34m\u001b[0m\u001b[0;34m\u001b[0m\u001b[0m\n\u001b[0;32m--> 365\u001b[0;31m             \u001b[0;32mraise\u001b[0m \u001b[0mValueError\u001b[0m\u001b[0;34m(\u001b[0m\u001b[0;34m\"Can only compare identically-labeled Series objects\"\u001b[0m\u001b[0;34m)\u001b[0m\u001b[0;34m\u001b[0m\u001b[0;34m\u001b[0m\u001b[0m\n\u001b[0m\u001b[1;32m    366\u001b[0m \u001b[0;34m\u001b[0m\u001b[0m\n\u001b[1;32m    367\u001b[0m         \u001b[0mlvalues\u001b[0m \u001b[0;34m=\u001b[0m \u001b[0mextract_array\u001b[0m\u001b[0;34m(\u001b[0m\u001b[0mself\u001b[0m\u001b[0;34m,\u001b[0m \u001b[0mextract_numpy\u001b[0m\u001b[0;34m=\u001b[0m\u001b[0;32mTrue\u001b[0m\u001b[0;34m)\u001b[0m\u001b[0;34m\u001b[0m\u001b[0;34m\u001b[0m\u001b[0m\n",
      "\u001b[0;31mValueError\u001b[0m: Can only compare identically-labeled Series objects"
     ]
    }
   ],
   "source": [
    "def CA_cum_f(row) :\n",
    "    return CA_cum[(CA_cum['ville'] == row['ville']) & \\\n",
    "                  (CA_cum['equipement'] == row['equipement'])]['CA']\n",
    "\n",
    "data_cities = data_cities.assign( CA_cumul = lambda row : CA_cum_f(row) )"
   ]
  },
  {
   "cell_type": "code",
   "execution_count": 83,
   "metadata": {},
   "outputs": [],
   "source": [
    "def CA_previous_yearold(row) :\n",
    "    return data_cities[(data_cities['processed_date'] == row['previous_year']) & \\\n",
    "                       (data_cities['ville'] == row['ville']) & \\\n",
    "                       (data_cities['equipement'] == row['equipement'])]['CA']\n",
    "\n",
    "def CA_previous_year(row) :\n",
    "    return data_cities[(data_cities['processed_date'] == row['previous_year'])]['CA']\n",
    "    \n",
    "data_cities = data_cities.assign( CA_previous_year = lambda row : CA_previous_year(row) )"
   ]
  },
  {
   "cell_type": "code",
   "execution_count": 84,
   "metadata": {},
   "outputs": [
    {
     "data": {
      "text/plain": [
       "1"
      ]
     },
     "execution_count": 84,
     "metadata": {},
     "output_type": "execute_result"
    }
   ],
   "source": [
    "((data_cities['processed_date'] == data_cities.loc[9852, 'previous_year']) & \\\n",
    " (data_cities['ville'] == data_cities.loc[9852, 'ville']) & \\\n",
    " (data_cities['equipement'] == data_cities.loc[9852, 'equipement'])\n",
    ").sum()\n"
   ]
  },
  {
   "cell_type": "code",
   "execution_count": 85,
   "metadata": {},
   "outputs": [
    {
     "data": {
      "text/plain": [
       "0"
      ]
     },
     "execution_count": 85,
     "metadata": {},
     "output_type": "execute_result"
    }
   ],
   "source": [
    "(~data_cities['CA_previous_year'].isna()).sum()"
   ]
  },
  {
   "cell_type": "code",
   "execution_count": 93,
   "metadata": {},
   "outputs": [],
   "source": [
    "data_cities['weekday'] = data_cities['processed_date'].apply(lambda row : calendar.day_name[row.weekday()] )"
   ]
  },
  {
   "cell_type": "code",
   "execution_count": 95,
   "metadata": {},
   "outputs": [],
   "source": [
    "data_cities['is_weekend'] = data_cities['weekday'].apply(lambda row : row in ['Sunday', 'Saturday'] )"
   ]
  },
  {
   "cell_type": "code",
   "execution_count": null,
   "metadata": {},
   "outputs": [],
   "source": []
  },
  {
   "cell_type": "code",
   "execution_count": null,
   "metadata": {},
   "outputs": [],
   "source": []
  },
  {
   "cell_type": "code",
   "execution_count": null,
   "metadata": {},
   "outputs": [],
   "source": []
  },
  {
   "cell_type": "code",
   "execution_count": null,
   "metadata": {},
   "outputs": [],
   "source": []
  },
  {
   "cell_type": "code",
   "execution_count": null,
   "metadata": {},
   "outputs": [],
   "source": []
  },
  {
   "cell_type": "code",
   "execution_count": 96,
   "metadata": {},
   "outputs": [
    {
     "data": {
      "text/html": [
       "<div>\n",
       "<style scoped>\n",
       "    .dataframe tbody tr th:only-of-type {\n",
       "        vertical-align: middle;\n",
       "    }\n",
       "\n",
       "    .dataframe tbody tr th {\n",
       "        vertical-align: top;\n",
       "    }\n",
       "\n",
       "    .dataframe thead th {\n",
       "        text-align: right;\n",
       "    }\n",
       "</style>\n",
       "<table border=\"1\" class=\"dataframe\">\n",
       "  <thead>\n",
       "    <tr style=\"text-align: right;\">\n",
       "      <th></th>\n",
       "      <th>date</th>\n",
       "      <th>equipement</th>\n",
       "      <th>ville</th>\n",
       "      <th>CA</th>\n",
       "      <th>processed_date</th>\n",
       "      <th>previous_year</th>\n",
       "      <th>CA_previous_year</th>\n",
       "      <th>weekday</th>\n",
       "      <th>is_weekend</th>\n",
       "    </tr>\n",
       "  </thead>\n",
       "  <tbody>\n",
       "    <tr>\n",
       "      <th>3285</th>\n",
       "      <td>2017-01-01</td>\n",
       "      <td>ordinateur</td>\n",
       "      <td>Bordeaux</td>\n",
       "      <td>270.941633</td>\n",
       "      <td>2017-01-01</td>\n",
       "      <td>2016-01-02</td>\n",
       "      <td>NaN</td>\n",
       "      <td>Sunday</td>\n",
       "      <td>True</td>\n",
       "    </tr>\n",
       "    <tr>\n",
       "      <th>3286</th>\n",
       "      <td>2017-01-02</td>\n",
       "      <td>ordinateur</td>\n",
       "      <td>Bordeaux</td>\n",
       "      <td>1894.634278</td>\n",
       "      <td>2017-01-02</td>\n",
       "      <td>2016-01-03</td>\n",
       "      <td>NaN</td>\n",
       "      <td>Monday</td>\n",
       "      <td>False</td>\n",
       "    </tr>\n",
       "    <tr>\n",
       "      <th>3287</th>\n",
       "      <td>2017-01-03</td>\n",
       "      <td>ordinateur</td>\n",
       "      <td>Bordeaux</td>\n",
       "      <td>1963.790266</td>\n",
       "      <td>2017-01-03</td>\n",
       "      <td>2016-01-04</td>\n",
       "      <td>NaN</td>\n",
       "      <td>Tuesday</td>\n",
       "      <td>False</td>\n",
       "    </tr>\n",
       "    <tr>\n",
       "      <th>3288</th>\n",
       "      <td>2017-01-04</td>\n",
       "      <td>ordinateur</td>\n",
       "      <td>Bordeaux</td>\n",
       "      <td>1560.772008</td>\n",
       "      <td>2017-01-04</td>\n",
       "      <td>2016-01-05</td>\n",
       "      <td>NaN</td>\n",
       "      <td>Wednesday</td>\n",
       "      <td>False</td>\n",
       "    </tr>\n",
       "    <tr>\n",
       "      <th>3289</th>\n",
       "      <td>2017-01-05</td>\n",
       "      <td>ordinateur</td>\n",
       "      <td>Bordeaux</td>\n",
       "      <td>1370.575521</td>\n",
       "      <td>2017-01-05</td>\n",
       "      <td>2016-01-06</td>\n",
       "      <td>NaN</td>\n",
       "      <td>Thursday</td>\n",
       "      <td>False</td>\n",
       "    </tr>\n",
       "    <tr>\n",
       "      <th>...</th>\n",
       "      <td>...</td>\n",
       "      <td>...</td>\n",
       "      <td>...</td>\n",
       "      <td>...</td>\n",
       "      <td>...</td>\n",
       "      <td>...</td>\n",
       "      <td>...</td>\n",
       "      <td>...</td>\n",
       "      <td>...</td>\n",
       "    </tr>\n",
       "    <tr>\n",
       "      <th>9850</th>\n",
       "      <td>2019-12-27</td>\n",
       "      <td>accessoires</td>\n",
       "      <td>Mont de Marsan</td>\n",
       "      <td>63.075136</td>\n",
       "      <td>2019-12-27</td>\n",
       "      <td>2018-12-27</td>\n",
       "      <td>NaN</td>\n",
       "      <td>Friday</td>\n",
       "      <td>False</td>\n",
       "    </tr>\n",
       "    <tr>\n",
       "      <th>9851</th>\n",
       "      <td>2019-12-28</td>\n",
       "      <td>accessoires</td>\n",
       "      <td>Mont de Marsan</td>\n",
       "      <td>18.267467</td>\n",
       "      <td>2019-12-28</td>\n",
       "      <td>2018-12-28</td>\n",
       "      <td>NaN</td>\n",
       "      <td>Saturday</td>\n",
       "      <td>True</td>\n",
       "    </tr>\n",
       "    <tr>\n",
       "      <th>9852</th>\n",
       "      <td>2019-12-29</td>\n",
       "      <td>accessoires</td>\n",
       "      <td>Mont de Marsan</td>\n",
       "      <td>94.673079</td>\n",
       "      <td>2019-12-29</td>\n",
       "      <td>2018-12-29</td>\n",
       "      <td>NaN</td>\n",
       "      <td>Sunday</td>\n",
       "      <td>True</td>\n",
       "    </tr>\n",
       "    <tr>\n",
       "      <th>9853</th>\n",
       "      <td>2019-12-30</td>\n",
       "      <td>accessoires</td>\n",
       "      <td>Mont de Marsan</td>\n",
       "      <td>12.928690</td>\n",
       "      <td>2019-12-30</td>\n",
       "      <td>2018-12-30</td>\n",
       "      <td>NaN</td>\n",
       "      <td>Monday</td>\n",
       "      <td>False</td>\n",
       "    </tr>\n",
       "    <tr>\n",
       "      <th>9854</th>\n",
       "      <td>2019-12-31</td>\n",
       "      <td>accessoires</td>\n",
       "      <td>Mont de Marsan</td>\n",
       "      <td>27.167088</td>\n",
       "      <td>2019-12-31</td>\n",
       "      <td>2018-12-31</td>\n",
       "      <td>NaN</td>\n",
       "      <td>Tuesday</td>\n",
       "      <td>False</td>\n",
       "    </tr>\n",
       "  </tbody>\n",
       "</table>\n",
       "<p>6570 rows × 9 columns</p>\n",
       "</div>"
      ],
      "text/plain": [
       "            date   equipement           ville           CA processed_date  \\\n",
       "3285  2017-01-01   ordinateur        Bordeaux   270.941633     2017-01-01   \n",
       "3286  2017-01-02   ordinateur        Bordeaux  1894.634278     2017-01-02   \n",
       "3287  2017-01-03   ordinateur        Bordeaux  1963.790266     2017-01-03   \n",
       "3288  2017-01-04   ordinateur        Bordeaux  1560.772008     2017-01-04   \n",
       "3289  2017-01-05   ordinateur        Bordeaux  1370.575521     2017-01-05   \n",
       "...          ...          ...             ...          ...            ...   \n",
       "9850  2019-12-27  accessoires  Mont de Marsan    63.075136     2019-12-27   \n",
       "9851  2019-12-28  accessoires  Mont de Marsan    18.267467     2019-12-28   \n",
       "9852  2019-12-29  accessoires  Mont de Marsan    94.673079     2019-12-29   \n",
       "9853  2019-12-30  accessoires  Mont de Marsan    12.928690     2019-12-30   \n",
       "9854  2019-12-31  accessoires  Mont de Marsan    27.167088     2019-12-31   \n",
       "\n",
       "     previous_year  CA_previous_year    weekday  is_weekend  \n",
       "3285    2016-01-02               NaN     Sunday        True  \n",
       "3286    2016-01-03               NaN     Monday       False  \n",
       "3287    2016-01-04               NaN    Tuesday       False  \n",
       "3288    2016-01-05               NaN  Wednesday       False  \n",
       "3289    2016-01-06               NaN   Thursday       False  \n",
       "...            ...               ...        ...         ...  \n",
       "9850    2018-12-27               NaN     Friday       False  \n",
       "9851    2018-12-28               NaN   Saturday        True  \n",
       "9852    2018-12-29               NaN     Sunday        True  \n",
       "9853    2018-12-30               NaN     Monday       False  \n",
       "9854    2018-12-31               NaN    Tuesday       False  \n",
       "\n",
       "[6570 rows x 9 columns]"
      ]
     },
     "execution_count": 96,
     "metadata": {},
     "output_type": "execute_result"
    }
   ],
   "source": [
    "data_cities"
   ]
  },
  {
   "cell_type": "code",
   "execution_count": null,
   "metadata": {},
   "outputs": [],
   "source": []
  },
  {
   "cell_type": "code",
   "execution_count": null,
   "metadata": {},
   "outputs": [],
   "source": []
  },
  {
   "cell_type": "code",
   "execution_count": null,
   "metadata": {},
   "outputs": [],
   "source": []
  },
  {
   "cell_type": "code",
   "execution_count": null,
   "metadata": {},
   "outputs": [],
   "source": []
  },
  {
   "cell_type": "code",
   "execution_count": null,
   "metadata": {},
   "outputs": [],
   "source": []
  },
  {
   "cell_type": "code",
   "execution_count": null,
   "metadata": {},
   "outputs": [],
   "source": []
  },
  {
   "cell_type": "code",
   "execution_count": null,
   "metadata": {},
   "outputs": [],
   "source": []
  },
  {
   "cell_type": "code",
   "execution_count": null,
   "metadata": {},
   "outputs": [],
   "source": []
  },
  {
   "cell_type": "code",
   "execution_count": null,
   "metadata": {},
   "outputs": [],
   "source": []
  },
  {
   "cell_type": "code",
   "execution_count": null,
   "metadata": {},
   "outputs": [],
   "source": []
  },
  {
   "cell_type": "code",
   "execution_count": 11,
   "metadata": {},
   "outputs": [],
   "source": [
    "class Person :\n",
    "    \n",
    "    def __init__(self, name, age) :\n",
    "        self.name = name\n",
    "        self.age = age\n",
    "        \n",
    "    def talk(self) :\n",
    "        return \"My name is {} and I am {} years old\".format(self.name, self.age)\n",
    "    \n",
    "    def __add__(self, p) :\n",
    "        return Person(self.name + p.name, self.age + p.age)\n",
    "    "
   ]
  },
  {
   "cell_type": "code",
   "execution_count": null,
   "metadata": {},
   "outputs": [],
   "source": []
  },
  {
   "cell_type": "code",
   "execution_count": 12,
   "metadata": {},
   "outputs": [],
   "source": [
    "p1 = Person('alex', 40)\n",
    "p2 = Person('seb', 30)"
   ]
  },
  {
   "cell_type": "code",
   "execution_count": 13,
   "metadata": {},
   "outputs": [],
   "source": [
    "p = p1 + p2"
   ]
  },
  {
   "cell_type": "code",
   "execution_count": 14,
   "metadata": {},
   "outputs": [
    {
     "data": {
      "text/plain": [
       "'My name is alexseb and I am 70 years old'"
      ]
     },
     "execution_count": 14,
     "metadata": {},
     "output_type": "execute_result"
    }
   ],
   "source": [
    "p.talk()"
   ]
  },
  {
   "cell_type": "code",
   "execution_count": 175,
   "metadata": {},
   "outputs": [],
   "source": [
    "from datetime import datetime\n",
    "\n",
    "        \n",
    "def file_name_arg(name_file) :\n",
    "    def write_to_file(func) :\n",
    "        def wrapper(*args, **kwargs) :\n",
    "            d = func(*args, **kwargs)\n",
    "            print(d)\n",
    "            with open(name_file, 'a') as f :\n",
    "                f.write(str(d) + '\\n')\n",
    "        return wrapper\n",
    "    return write_to_file\n",
    "\n",
    "\n",
    "    \n",
    "class MyDatetime :\n",
    "    \n",
    "    birthday = datetime(2019, 11, 23)\n",
    "        \n",
    "    @file_name_arg('date_time_file2.txt')\n",
    "    def diff(self, dt) :\n",
    "        return dt - self.__class__.birthday\n",
    "        \n",
    "    \n",
    "    @file_name_arg('date_time_file2.txt')\n",
    "    def __str__(self) :\n",
    "        return self.__class__.birthday.timestamp()\n",
    "    \n",
    "    @property\n",
    "    def age_today(self) :\n",
    "        return self.diff(datetime.today())\n",
    "        "
   ]
  },
  {
   "cell_type": "code",
   "execution_count": 178,
   "metadata": {},
   "outputs": [
    {
     "name": "stdout",
     "output_type": "stream",
     "text": [
      "150 days, 0:00:00\n",
      "320 days, 17:25:03.239674\n"
     ]
    }
   ],
   "source": [
    "mbd = MyDatetime()\n",
    "mbd.diff(datetime(2020,4,21))\n",
    "mbd.age_today"
   ]
  },
  {
   "cell_type": "code",
   "execution_count": 167,
   "metadata": {},
   "outputs": [
    {
     "name": "stdout",
     "output_type": "stream",
     "text": [
      "320 days, 17:18:39.234425\n"
     ]
    },
    {
     "data": {
      "text/plain": [
       "'None'"
      ]
     },
     "execution_count": 167,
     "metadata": {},
     "output_type": "execute_result"
    }
   ],
   "source": [
    "str(mbd.diff(datetime.today()))"
   ]
  },
  {
   "cell_type": "code",
   "execution_count": null,
   "metadata": {},
   "outputs": [],
   "source": []
  },
  {
   "cell_type": "code",
   "execution_count": null,
   "metadata": {},
   "outputs": [],
   "source": []
  },
  {
   "cell_type": "code",
   "execution_count": null,
   "metadata": {},
   "outputs": [],
   "source": []
  },
  {
   "cell_type": "code",
   "execution_count": null,
   "metadata": {},
   "outputs": [],
   "source": []
  },
  {
   "cell_type": "code",
   "execution_count": null,
   "metadata": {},
   "outputs": [],
   "source": []
  },
  {
   "cell_type": "code",
   "execution_count": null,
   "metadata": {},
   "outputs": [],
   "source": []
  },
  {
   "cell_type": "code",
   "execution_count": null,
   "metadata": {},
   "outputs": [],
   "source": []
  },
  {
   "cell_type": "code",
   "execution_count": null,
   "metadata": {},
   "outputs": [],
   "source": []
  },
  {
   "cell_type": "code",
   "execution_count": null,
   "metadata": {},
   "outputs": [],
   "source": []
  }
 ],
 "metadata": {
  "kernelspec": {
   "display_name": "Python 3",
   "language": "python",
   "name": "python3"
  },
  "language_info": {
   "codemirror_mode": {
    "name": "ipython",
    "version": 3
   },
   "file_extension": ".py",
   "mimetype": "text/x-python",
   "name": "python",
   "nbconvert_exporter": "python",
   "pygments_lexer": "ipython3",
   "version": "3.7.4"
  }
 },
 "nbformat": 4,
 "nbformat_minor": 2
}
