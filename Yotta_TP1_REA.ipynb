{
 "cells": [
  {
   "cell_type": "code",
   "execution_count": null,
   "metadata": {},
   "outputs": [],
   "source": [
    "pip install workalendar"
   ]
  },
  {
   "cell_type": "code",
   "execution_count": null,
   "metadata": {},
   "outputs": [],
   "source": [
    "pip install holidays"
   ]
  },
  {
   "cell_type": "code",
   "execution_count": null,
   "metadata": {},
   "outputs": [],
   "source": [
    "pip install vacances-scolaires-france"
   ]
  },
  {
   "cell_type": "code",
   "execution_count": null,
   "metadata": {},
   "outputs": [],
   "source": [
    "import pandas as pd\n",
    "import numpy as np\n",
    "import re\n",
    "from datetime import datetime, timedelta, date\n",
    "import calendar\n",
    "from vacances_scolaires_france import SchoolHolidayDates\n",
    "import holidays"
   ]
  },
  {
   "cell_type": "code",
   "execution_count": null,
   "metadata": {},
   "outputs": [],
   "source": [
    "data = pd.read_csv('initial_dataset.csv')\n",
    "data.info()"
   ]
  },
  {
   "cell_type": "code",
   "execution_count": null,
   "metadata": {},
   "outputs": [],
   "source": [
    "data['equipement'][data['equipement'] == 'téléphone'] = 'telephone'"
   ]
  },
  {
   "cell_type": "code",
   "execution_count": null,
   "metadata": {},
   "outputs": [],
   "source": [
    "items_to_retrieve = ['ordinateur', 'telephone']\n",
    "cities_to_retrieve = ['Bordeaux', 'Mont de Marsan']\n",
    "data_cities = data[data['ville'].isin(cities_to_retrieve) & (data['equipement'].isin(items_to_retrieve))]\n",
    "data_cities.info()"
   ]
  },
  {
   "cell_type": "code",
   "execution_count": null,
   "metadata": {},
   "outputs": [],
   "source": [
    "CA_cum = data_cities.groupby(by=['ville', 'equipement']).sum().reset_index()\n",
    "CA_cum"
   ]
  },
  {
   "cell_type": "code",
   "execution_count": null,
   "metadata": {},
   "outputs": [],
   "source": [
    "data_cities.loc[:, 'processed_date'] = data_cities.loc[:, 'date'].apply(lambda row : datetime(int(row.split('-', 2)[0]), int(row.split('-', 2)[1]), int(row.split('-', 2)[2])))\n",
    "data_cities['previous_year'] = data_cities['processed_date'].apply(lambda row : row - timedelta(days=365))\n",
    "data_cities['previous_year_same_day'] = data_cities['processed_date'].apply(lambda row : row - timedelta(days=364))\n",
    "data_cities.loc[:, 'processed_previous_year'] = data_cities.loc[:, 'previous_year'].apply(lambda row : str(row.year) + '-' + str(row.month).zfill(2) + '-' + str(row.day).zfill(2))\n",
    "data_cities.loc[:, 'processed_previous_year_same_day'] = data_cities.loc[:, 'previous_year_same_day'].apply(lambda row : str(row.year) + '-' + str(row.month).zfill(2) + '-' + str(row.day).zfill(2))"
   ]
  },
  {
   "cell_type": "code",
   "execution_count": null,
   "metadata": {},
   "outputs": [],
   "source": [
    "CA_previous_year = []\n",
    "\n",
    "for k in range(len(data_cities)) :\n",
    "    date_test = data_cities['date'] == data_cities.iloc[k, :]['processed_previous_year']\n",
    "    ville_test = data_cities['ville'] == data_cities.iloc[k, :]['ville']\n",
    "    equipement_test = data_cities['equipement'] == data_cities.iloc[k, :]['equipement']\n",
    "    \n",
    "    ca_py = data_cities[ equipement_test & ville_test & date_test ]['CA'].values\n",
    "    \n",
    "    if ca_py :\n",
    "        CA_previous_year.append(ca_py[0])\n",
    "    else :\n",
    "        CA_previous_year.append(None)\n",
    "\n",
    "\n",
    "data_cities['CA_previous_year'] = CA_previous_year"
   ]
  },
  {
   "cell_type": "code",
   "execution_count": null,
   "metadata": {},
   "outputs": [],
   "source": [
    "CA_previous_year_same_day = []\n",
    "\n",
    "for k in range(len(data_cities)) :\n",
    "    date_test = data_cities['date'] == data_cities.iloc[k, :]['processed_previous_year_same_day']\n",
    "    ville_test = data_cities['ville'] == data_cities.iloc[k, :]['ville']\n",
    "    equipement_test = data_cities['equipement'] == data_cities.iloc[k, :]['equipement']\n",
    "    \n",
    "    ca_py = data_cities[ equipement_test & ville_test & date_test ]['CA'].values\n",
    "    \n",
    "    if ca_py :\n",
    "        CA_previous_year_same_day.append(ca_py[0])\n",
    "    else :\n",
    "        CA_previous_year_same_day.append(None)\n",
    "\n",
    "\n",
    "data_cities['CA_previous_year_same_day'] = CA_previous_year_same_day"
   ]
  },
  {
   "cell_type": "code",
   "execution_count": null,
   "metadata": {},
   "outputs": [],
   "source": [
    "data_cities['weekday'] = data_cities['processed_date'].apply(lambda row : calendar.day_name[row.weekday()] )"
   ]
  },
  {
   "cell_type": "code",
   "execution_count": null,
   "metadata": {},
   "outputs": [],
   "source": [
    "data_cities['is_weekend'] = data_cities['weekday'].apply(lambda row : row in ['Sunday', 'Saturday'] )"
   ]
  },
  {
   "cell_type": "code",
   "execution_count": null,
   "metadata": {},
   "outputs": [],
   "source": [
    "years_list = data_cities.loc[:, 'date'].apply(lambda row : int(row.split('-', 2)[0])).unique()\n",
    "#years_list"
   ]
  },
  {
   "cell_type": "code",
   "execution_count": null,
   "metadata": {},
   "outputs": [],
   "source": [
    "hols = []\n",
    "for date in holidays.France(years=years_list).items() :\n",
    "    hols.append(date[0])\n",
    "    \n",
    "data_cities['is_bankholiday'] = data_cities['processed_date'].apply(lambda row : row in hols)"
   ]
  },
  {
   "cell_type": "code",
   "execution_count": null,
   "metadata": {},
   "outputs": [],
   "source": [
    "from datetime import date\n",
    "d = SchoolHolidayDates()\n",
    "data_cities['is_school_holiday_A'] = data_cities['processed_date'].apply(lambda row : d.is_holiday_for_zone(date(row.year, row.month, row.day), 'A') )\n",
    "data_cities['is_school_holiday_B'] = data_cities['processed_date'].apply(lambda row : d.is_holiday_for_zone(date(row.year, row.month, row.day), 'B') )\n",
    "data_cities['is_school_holiday_C'] = data_cities['processed_date'].apply(lambda row : d.is_holiday_for_zone(date(row.year, row.month, row.day), 'C') )"
   ]
  },
  {
   "cell_type": "code",
   "execution_count": null,
   "metadata": {},
   "outputs": [],
   "source": []
  },
  {
   "cell_type": "code",
   "execution_count": null,
   "metadata": {},
   "outputs": [],
   "source": []
  },
  {
   "cell_type": "code",
   "execution_count": null,
   "metadata": {},
   "outputs": [],
   "source": []
  },
  {
   "cell_type": "code",
   "execution_count": null,
   "metadata": {},
   "outputs": [],
   "source": [
    "data_cities['distance_between_closest_bank_holiday'] = \\\n",
    "data_cities['processed_date'].apply(lambda row : abs(min(np.array(hols) - date(row.year, row.month, row.day))) )"
   ]
  },
  {
   "cell_type": "code",
   "execution_count": null,
   "metadata": {},
   "outputs": [],
   "source": [
    "data_cities['distance_between_closest_bank_holiday'] "
   ]
  },
  {
   "cell_type": "code",
   "execution_count": null,
   "metadata": {},
   "outputs": [],
   "source": []
  },
  {
   "cell_type": "code",
   "execution_count": null,
   "metadata": {},
   "outputs": [],
   "source": [
    "data_cities[(data_cities['year'] == 2017) & (data_cities['month'] == 1)]['CA'].sum()"
   ]
  },
  {
   "cell_type": "code",
   "execution_count": null,
   "metadata": {
    "scrolled": true
   },
   "outputs": [],
   "source": [
    "data_cities[['year', 'CA']]"
   ]
  },
  {
   "cell_type": "code",
   "execution_count": null,
   "metadata": {},
   "outputs": [],
   "source": [
    "min(np.array(hols) - date(2017, 1, 1))"
   ]
  },
  {
   "cell_type": "code",
   "execution_count": null,
   "metadata": {},
   "outputs": [],
   "source": []
  },
  {
   "cell_type": "code",
   "execution_count": null,
   "metadata": {},
   "outputs": [],
   "source": []
  },
  {
   "cell_type": "code",
   "execution_count": null,
   "metadata": {},
   "outputs": [],
   "source": [
    "data_cities['year'] = [d.year for d in data_cities['processed_date']]\n",
    "data_cities['month'] = [d.month for d in data_cities['processed_date']]\n",
    "data_cities['time'] = data_cities['processed_date'].apply(lambda row : str(row.year) + '-' + str(row.month).zfill(2) )\n",
    "CA_plot = data_cities[['month', 'time', 'CA']].groupby(by=['time']).sum().sort_values(by='time').reset_index()\n",
    "CA_plot_equipement = data_cities[['time', 'CA', 'equipement']].groupby(by=['time', 'equipement']).sum().sort_values(by='time').reset_index()\n",
    "\n"
   ]
  },
  {
   "cell_type": "code",
   "execution_count": null,
   "metadata": {},
   "outputs": [],
   "source": [
    "import matplotlib.pyplot as plt\n",
    "\n",
    "def plot_df(df, x, y, title='', xlabel='Temps mensuel', ylabel='CA', dpi=100):\n",
    "    plt.figure(figsize=(16,5), dpi=dpi)\n",
    "    plt.xticks(rotation='vertical')\n",
    "    plt.plot(x, y, color='tab:blue')\n",
    "    plt.gca().set(title=title, xlabel=xlabel, ylabel=ylabel)\n",
    "    plt.show()"
   ]
  },
  {
   "cell_type": "code",
   "execution_count": null,
   "metadata": {},
   "outputs": [],
   "source": [
    "plot_df(CA_plot, x=CA_plot['time'], y=CA_plot['CA'], title='Evolution du CA mensuel de 2017 à 2019') "
   ]
  },
  {
   "cell_type": "code",
   "execution_count": null,
   "metadata": {},
   "outputs": [],
   "source": [
    "CA_plot_ordinateur = CA_plot_equipement[CA_plot_equipement['equipement'] == 'ordinateur']\n",
    "CA_plot_telephone = CA_plot_equipement[CA_plot_equipement['equipement'] == 'telephone']"
   ]
  },
  {
   "cell_type": "code",
   "execution_count": null,
   "metadata": {},
   "outputs": [],
   "source": [
    "plot_df(CA_plot_ordinateur, x=CA_plot_ordinateur['time'], y=CA_plot_ordinateur['CA'], title='Evolution du CA ordinateurs mensuel de 2017 à 2019')  "
   ]
  },
  {
   "cell_type": "code",
   "execution_count": null,
   "metadata": {},
   "outputs": [],
   "source": [
    "plot_df(CA_plot_telephone, x=CA_plot_telephone['time'], y=CA_plot_telephone['CA'], title='Evolution du CA telephone mensuel de 2017 à 2019')  "
   ]
  },
  {
   "cell_type": "code",
   "execution_count": null,
   "metadata": {},
   "outputs": [],
   "source": [
    "#data_cities = data_cities[['date', 'equipement', 'ville', 'CA']].sort_values(by=['date'], ascending=False)"
   ]
  },
  {
   "cell_type": "code",
   "execution_count": null,
   "metadata": {},
   "outputs": [],
   "source": [
    "data_cities.drop(columns=['processed_date', 'processed_previous_year_same_day', 'previous_year_same_day', 'previous_year', 'processed_previous_year', 'year', 'month', 'time'], inplace=True)\n",
    "data_cities.to_csv('processed_data_v1', index=False)"
   ]
  },
  {
   "cell_type": "code",
   "execution_count": null,
   "metadata": {},
   "outputs": [],
   "source": [
    "tst = pd.read_csv('processed_data_v1')\n",
    "tst"
   ]
  },
  {
   "cell_type": "code",
   "execution_count": null,
   "metadata": {},
   "outputs": [],
   "source": []
  }
 ],
 "metadata": {
  "kernelspec": {
   "display_name": "Python 3",
   "language": "python",
   "name": "python3"
  },
  "language_info": {
   "codemirror_mode": {
    "name": "ipython",
    "version": 3
   },
   "file_extension": ".py",
   "mimetype": "text/x-python",
   "name": "python",
   "nbconvert_exporter": "python",
   "pygments_lexer": "ipython3",
   "version": "3.8.4+"
  }
 },
 "nbformat": 4,
 "nbformat_minor": 2
}
