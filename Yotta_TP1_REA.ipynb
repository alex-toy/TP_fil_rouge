{
 "cells": [
  {
   "cell_type": "code",
   "execution_count": 153,
   "metadata": {
    "collapsed": true
   },
   "outputs": [
    {
     "name": "stdout",
     "output_type": "stream",
     "text": [
      "Collecting workalendar\n",
      "\u001b[?25l  Downloading https://files.pythonhosted.org/packages/c6/93/a6bd967b9ff40361292456084bb2c2a52991a397e114850c973513ba8180/workalendar-12.0.0-py3-none-any.whl (178kB)\n",
      "\u001b[K     |████████████████████████████████| 184kB 7.7MB/s eta 0:00:01\n",
      "\u001b[?25hRequirement already satisfied: setuptools>=1.0 in /opt/anaconda3/lib/python3.7/site-packages (from workalendar) (41.4.0)\n",
      "Collecting pyCalverter (from workalendar)\n",
      "  Downloading https://files.pythonhosted.org/packages/4f/5c/57c6853f7a5bc41fc9da7651ae67b9c76381083742613faa7381724081e9/pyCalverter-1.6.1.tar.gz\n",
      "Collecting skyfield (from workalendar)\n",
      "\u001b[?25l  Downloading https://files.pythonhosted.org/packages/62/30/23507996b8cef91d21b313c7b86fd672e5f53c0e0af323f84e0400174bd1/skyfield-1.29.tar.gz (294kB)\n",
      "\u001b[K     |████████████████████████████████| 296kB 12.0MB/s eta 0:00:01\n",
      "\u001b[?25hCollecting pyluach (from workalendar)\n",
      "  Downloading https://files.pythonhosted.org/packages/0f/1d/0944aab24d817a866d7aea97851c3d3c71c9e10f6efd93c43b18c856a9b4/pyluach-1.1.1-py3-none-any.whl\n",
      "Collecting skyfield-data (from workalendar)\n",
      "\u001b[?25l  Downloading https://files.pythonhosted.org/packages/c7/f0/5e40d2ae2cb78148193c24b36c8881c3b94a92d77e3d9d16b3a652f64524/skyfield_data-1.1.0-py2.py3-none-any.whl (16.0MB)\n",
      "\u001b[K     |████████████████████████████████| 16.0MB 10.7MB/s eta 0:00:01\n",
      "\u001b[?25hRequirement already satisfied: pytz in /opt/anaconda3/lib/python3.7/site-packages (from workalendar) (2019.3)\n",
      "Collecting lunardate (from workalendar)\n",
      "  Downloading https://files.pythonhosted.org/packages/4e/7e/377a3cbba646ec0cf79433ef858881d809a3b87eb887b0901cb83c66a758/lunardate-0.2.0-py3-none-any.whl\n",
      "Requirement already satisfied: python-dateutil in /opt/anaconda3/lib/python3.7/site-packages (from workalendar) (2.8.0)\n",
      "Requirement already satisfied: certifi>=2017.4.17 in /opt/anaconda3/lib/python3.7/site-packages (from skyfield->workalendar) (2020.6.20)\n",
      "Collecting jplephem>=2.13 (from skyfield->workalendar)\n",
      "\u001b[?25l  Downloading https://files.pythonhosted.org/packages/c9/f0/e57456436531333455f40864622c5ae359654ccede8fe1156c3c2ac6c492/jplephem-2.15.tar.gz (40kB)\n",
      "\u001b[K     |████████████████████████████████| 40kB 11.1MB/s eta 0:00:01\n",
      "\u001b[?25hRequirement already satisfied: numpy in /opt/anaconda3/lib/python3.7/site-packages (from skyfield->workalendar) (1.17.2)\n",
      "Collecting sgp4>=2.2 (from skyfield->workalendar)\n",
      "\u001b[?25l  Downloading https://files.pythonhosted.org/packages/1b/2b/e8cf08690bd4c87a5fc2f1baadd130511b94c36523b8e926b9adc9786c70/sgp4-2.12-cp37-cp37m-macosx_10_6_intel.whl (170kB)\n",
      "\u001b[K     |████████████████████████████████| 174kB 22.8MB/s eta 0:00:01\n",
      "\u001b[?25hRequirement already satisfied: six>=1.5 in /opt/anaconda3/lib/python3.7/site-packages (from python-dateutil->workalendar) (1.12.0)\n",
      "Building wheels for collected packages: pyCalverter, skyfield, jplephem\n",
      "  Building wheel for pyCalverter (setup.py) ... \u001b[?25ldone\n",
      "\u001b[?25h  Created wheel for pyCalverter: filename=pyCalverter-1.6.1-cp37-none-any.whl size=4201 sha256=b8f087467fe42e852dbf9e150f37152beb384297736d9e167dec3c1c5351233c\n",
      "  Stored in directory: /Users/alexei/Library/Caches/pip/wheels/77/4d/86/db4ff4eca6178dbbd5a365d095f97f6021e2a48f09908be79c\n",
      "  Building wheel for skyfield (setup.py) ... \u001b[?25ldone\n",
      "\u001b[?25h  Created wheel for skyfield: filename=skyfield-1.29-cp37-none-any.whl size=332707 sha256=8a347e79ec8fa5f28f4e1269d71c44dec9836f67f52837c7591c4d7880ea2e3c\n",
      "  Stored in directory: /Users/alexei/Library/Caches/pip/wheels/fa/2c/b8/7f2addfbf142438d2ca8cf5c083b6a6865478ba5bccadf7c43\n",
      "  Building wheel for jplephem (setup.py) ... \u001b[?25ldone\n",
      "\u001b[?25h  Created wheel for jplephem: filename=jplephem-2.15-cp37-none-any.whl size=46020 sha256=bd5cadfc24577d3dc68767493bfb0c944f7182eb3ceb4075def022685dde34a4\n",
      "  Stored in directory: /Users/alexei/Library/Caches/pip/wheels/01/71/9c/beaa33beb607ef67b62765324a10cd3584e30fbeef8856b7a8\n",
      "Successfully built pyCalverter skyfield jplephem\n",
      "Installing collected packages: pyCalverter, jplephem, sgp4, skyfield, pyluach, skyfield-data, lunardate, workalendar\n",
      "Successfully installed jplephem-2.15 lunardate-0.2.0 pyCalverter-1.6.1 pyluach-1.1.1 sgp4-2.12 skyfield-1.29 skyfield-data-1.1.0 workalendar-12.0.0\n",
      "Note: you may need to restart the kernel to use updated packages.\n"
     ]
    }
   ],
   "source": [
    "pip install workalendar"
   ]
  },
  {
   "cell_type": "code",
   "execution_count": 182,
   "metadata": {
    "collapsed": true
   },
   "outputs": [
    {
     "name": "stdout",
     "output_type": "stream",
     "text": [
      "Collecting holidays\n",
      "\u001b[?25l  Downloading https://files.pythonhosted.org/packages/d9/c7/1d0cb8f69bb4caa252a0c95de66a34e0548cbf9d3f4a2353cba5ee5f566c/holidays-0.10.3.tar.gz (114kB)\n",
      "\u001b[K     |████████████████████████████████| 122kB 6.2MB/s eta 0:00:01\n",
      "\u001b[?25hRequirement already satisfied: python-dateutil in /opt/anaconda3/lib/python3.7/site-packages (from holidays) (2.8.0)\n",
      "Requirement already satisfied: six in /opt/anaconda3/lib/python3.7/site-packages (from holidays) (1.12.0)\n",
      "Collecting convertdate (from holidays)\n",
      "\u001b[?25l  Downloading https://files.pythonhosted.org/packages/97/55/d016f15f0b7cf3b283abe386fb3f73a4b862ece57f387b7718bd3ea9313f/convertdate-2.2.2-py2.py3-none-any.whl (40kB)\n",
      "\u001b[K     |████████████████████████████████| 40kB 8.4MB/s  eta 0:00:01\n",
      "\u001b[?25hCollecting korean_lunar_calendar (from holidays)\n",
      "  Downloading https://files.pythonhosted.org/packages/15/41/aa426a4a9141afd8e7f5c8312bb59d5693274f3f7b34e73bdce4ee48b4c1/korean_lunar_calendar-0.2.1-py3-none-any.whl\n",
      "Collecting pymeeus<=1,>=0.3.6 (from convertdate->holidays)\n",
      "\u001b[?25l  Downloading https://files.pythonhosted.org/packages/2c/30/47957d487fff94083bdd17247734c165f12b5ac39a3abd1aa476a93eea6e/PyMeeus-0.3.7.tar.gz (732kB)\n",
      "\u001b[K     |████████████████████████████████| 737kB 10.2MB/s eta 0:00:01\n",
      "\u001b[?25hRequirement already satisfied: pytz>=2014.10 in /opt/anaconda3/lib/python3.7/site-packages (from convertdate->holidays) (2019.3)\n",
      "Building wheels for collected packages: holidays, pymeeus\n",
      "  Building wheel for holidays (setup.py) ... \u001b[?25ldone\n",
      "\u001b[?25h  Created wheel for holidays: filename=holidays-0.10.3-cp37-none-any.whl size=115857 sha256=897524a3d04925f69fee25deaa9de0ecf676e75cda925530179c6b2bb8f5c14a\n",
      "  Stored in directory: /Users/alexei/Library/Caches/pip/wheels/d3/a6/3c/4072c36c7d443be579c0917845e1b27fc1f09d4867c41e170d\n",
      "  Building wheel for pymeeus (setup.py) ... \u001b[?25ldone\n",
      "\u001b[?25h  Created wheel for pymeeus: filename=PyMeeus-0.3.7-cp37-none-any.whl size=702877 sha256=5c550a42130210798cd0384a63ba378987140dee06caac9314ee249563aee709\n",
      "  Stored in directory: /Users/alexei/Library/Caches/pip/wheels/8d/1a/e7/684cd77a99aac294f976db834fe613b5424f7c4d75ffb0b84d\n",
      "Successfully built holidays pymeeus\n",
      "Installing collected packages: pymeeus, convertdate, korean-lunar-calendar, holidays\n",
      "Successfully installed convertdate-2.2.2 holidays-0.10.3 korean-lunar-calendar-0.2.1 pymeeus-0.3.7\n",
      "Note: you may need to restart the kernel to use updated packages.\n"
     ]
    }
   ],
   "source": [
    "pip install holidays"
   ]
  },
  {
   "cell_type": "code",
   "execution_count": 246,
   "metadata": {},
   "outputs": [],
   "source": [
    "import pandas as pd\n",
    "import numpy as np\n",
    "import re\n",
    "from datetime import datetime, timedelta\n",
    "import calendar\n",
    "import holidays"
   ]
  },
  {
   "cell_type": "code",
   "execution_count": 271,
   "metadata": {},
   "outputs": [],
   "source": [
    "data = pd.read_csv('initial_dataset.csv')"
   ]
  },
  {
   "cell_type": "code",
   "execution_count": 272,
   "metadata": {},
   "outputs": [
    {
     "name": "stderr",
     "output_type": "stream",
     "text": [
      "/opt/anaconda3/lib/python3.7/site-packages/ipykernel_launcher.py:1: SettingWithCopyWarning: \n",
      "A value is trying to be set on a copy of a slice from a DataFrame\n",
      "\n",
      "See the caveats in the documentation: https://pandas.pydata.org/pandas-docs/stable/user_guide/indexing.html#returning-a-view-versus-a-copy\n",
      "  \"\"\"Entry point for launching an IPython kernel.\n"
     ]
    }
   ],
   "source": [
    "data['equipement'][data['equipement'] == 'téléphone'] = 'telephone'"
   ]
  },
  {
   "cell_type": "code",
   "execution_count": 273,
   "metadata": {},
   "outputs": [],
   "source": [
    "items_to_retrieve = ['ordinateur', 'telephone']\n",
    "data_cities = data[~(data['ville'] == 'Paris') & (data['equipement'].isin(items_to_retrieve))]"
   ]
  },
  {
   "cell_type": "code",
   "execution_count": 274,
   "metadata": {},
   "outputs": [
    {
     "name": "stderr",
     "output_type": "stream",
     "text": [
      "/opt/anaconda3/lib/python3.7/site-packages/pandas/core/indexing.py:1596: SettingWithCopyWarning: \n",
      "A value is trying to be set on a copy of a slice from a DataFrame.\n",
      "Try using .loc[row_indexer,col_indexer] = value instead\n",
      "\n",
      "See the caveats in the documentation: https://pandas.pydata.org/pandas-docs/stable/user_guide/indexing.html#returning-a-view-versus-a-copy\n",
      "  self.obj[key] = _infer_fill_value(value)\n",
      "/opt/anaconda3/lib/python3.7/site-packages/pandas/core/indexing.py:1745: SettingWithCopyWarning: \n",
      "A value is trying to be set on a copy of a slice from a DataFrame.\n",
      "Try using .loc[row_indexer,col_indexer] = value instead\n",
      "\n",
      "See the caveats in the documentation: https://pandas.pydata.org/pandas-docs/stable/user_guide/indexing.html#returning-a-view-versus-a-copy\n",
      "  isetter(ilocs[0], value)\n"
     ]
    }
   ],
   "source": [
    "data_cities.loc[:, 'processed_date'] = data_cities.loc[:, 'date'].apply(lambda row : datetime(int(row.split('-', 2)[0]), int(row.split('-', 2)[1]), int(row.split('-', 2)[2])))"
   ]
  },
  {
   "cell_type": "code",
   "execution_count": 276,
   "metadata": {},
   "outputs": [
    {
     "name": "stderr",
     "output_type": "stream",
     "text": [
      "/opt/anaconda3/lib/python3.7/site-packages/ipykernel_launcher.py:1: SettingWithCopyWarning: \n",
      "A value is trying to be set on a copy of a slice from a DataFrame.\n",
      "Try using .loc[row_indexer,col_indexer] = value instead\n",
      "\n",
      "See the caveats in the documentation: https://pandas.pydata.org/pandas-docs/stable/user_guide/indexing.html#returning-a-view-versus-a-copy\n",
      "  \"\"\"Entry point for launching an IPython kernel.\n"
     ]
    },
    {
     "data": {
      "text/plain": [
       "3285   2016-01-02\n",
       "3286   2016-01-03\n",
       "3287   2016-01-04\n",
       "3288   2016-01-05\n",
       "3289   2016-01-06\n",
       "          ...    \n",
       "8755   2018-12-27\n",
       "8756   2018-12-28\n",
       "8757   2018-12-29\n",
       "8758   2018-12-30\n",
       "8759   2018-12-31\n",
       "Name: previous_year, Length: 4380, dtype: datetime64[ns]"
      ]
     },
     "execution_count": 276,
     "metadata": {},
     "output_type": "execute_result"
    }
   ],
   "source": [
    "data_cities['previous_year'] = data_cities['processed_date'].apply(lambda row : row - timedelta(days=365))\n",
    "data_cities['previous_year']"
   ]
  },
  {
   "cell_type": "code",
   "execution_count": 277,
   "metadata": {},
   "outputs": [
    {
     "data": {
      "text/html": [
       "<div>\n",
       "<style scoped>\n",
       "    .dataframe tbody tr th:only-of-type {\n",
       "        vertical-align: middle;\n",
       "    }\n",
       "\n",
       "    .dataframe tbody tr th {\n",
       "        vertical-align: top;\n",
       "    }\n",
       "\n",
       "    .dataframe thead th {\n",
       "        text-align: right;\n",
       "    }\n",
       "</style>\n",
       "<table border=\"1\" class=\"dataframe\">\n",
       "  <thead>\n",
       "    <tr style=\"text-align: right;\">\n",
       "      <th></th>\n",
       "      <th>date</th>\n",
       "      <th>equipement</th>\n",
       "      <th>ville</th>\n",
       "      <th>CA</th>\n",
       "      <th>processed_date</th>\n",
       "      <th>previous_year</th>\n",
       "    </tr>\n",
       "  </thead>\n",
       "  <tbody>\n",
       "    <tr>\n",
       "      <th>3285</th>\n",
       "      <td>2017-01-01</td>\n",
       "      <td>ordinateur</td>\n",
       "      <td>Bordeaux</td>\n",
       "      <td>270.941633</td>\n",
       "      <td>2017-01-01</td>\n",
       "      <td>2016-01-02</td>\n",
       "    </tr>\n",
       "    <tr>\n",
       "      <th>3286</th>\n",
       "      <td>2017-01-02</td>\n",
       "      <td>ordinateur</td>\n",
       "      <td>Bordeaux</td>\n",
       "      <td>1894.634278</td>\n",
       "      <td>2017-01-02</td>\n",
       "      <td>2016-01-03</td>\n",
       "    </tr>\n",
       "    <tr>\n",
       "      <th>3287</th>\n",
       "      <td>2017-01-03</td>\n",
       "      <td>ordinateur</td>\n",
       "      <td>Bordeaux</td>\n",
       "      <td>1963.790266</td>\n",
       "      <td>2017-01-03</td>\n",
       "      <td>2016-01-04</td>\n",
       "    </tr>\n",
       "    <tr>\n",
       "      <th>3288</th>\n",
       "      <td>2017-01-04</td>\n",
       "      <td>ordinateur</td>\n",
       "      <td>Bordeaux</td>\n",
       "      <td>1560.772008</td>\n",
       "      <td>2017-01-04</td>\n",
       "      <td>2016-01-05</td>\n",
       "    </tr>\n",
       "    <tr>\n",
       "      <th>3289</th>\n",
       "      <td>2017-01-05</td>\n",
       "      <td>ordinateur</td>\n",
       "      <td>Bordeaux</td>\n",
       "      <td>1370.575521</td>\n",
       "      <td>2017-01-05</td>\n",
       "      <td>2016-01-06</td>\n",
       "    </tr>\n",
       "    <tr>\n",
       "      <th>...</th>\n",
       "      <td>...</td>\n",
       "      <td>...</td>\n",
       "      <td>...</td>\n",
       "      <td>...</td>\n",
       "      <td>...</td>\n",
       "      <td>...</td>\n",
       "    </tr>\n",
       "    <tr>\n",
       "      <th>8755</th>\n",
       "      <td>2019-12-27</td>\n",
       "      <td>telephone</td>\n",
       "      <td>Mont de Marsan</td>\n",
       "      <td>1867.309990</td>\n",
       "      <td>2019-12-27</td>\n",
       "      <td>2018-12-27</td>\n",
       "    </tr>\n",
       "    <tr>\n",
       "      <th>8756</th>\n",
       "      <td>2019-12-28</td>\n",
       "      <td>telephone</td>\n",
       "      <td>Mont de Marsan</td>\n",
       "      <td>676.055161</td>\n",
       "      <td>2019-12-28</td>\n",
       "      <td>2018-12-28</td>\n",
       "    </tr>\n",
       "    <tr>\n",
       "      <th>8757</th>\n",
       "      <td>2019-12-29</td>\n",
       "      <td>telephone</td>\n",
       "      <td>Mont de Marsan</td>\n",
       "      <td>187.797757</td>\n",
       "      <td>2019-12-29</td>\n",
       "      <td>2018-12-29</td>\n",
       "    </tr>\n",
       "    <tr>\n",
       "      <th>8758</th>\n",
       "      <td>2019-12-30</td>\n",
       "      <td>telephone</td>\n",
       "      <td>Mont de Marsan</td>\n",
       "      <td>250.705047</td>\n",
       "      <td>2019-12-30</td>\n",
       "      <td>2018-12-30</td>\n",
       "    </tr>\n",
       "    <tr>\n",
       "      <th>8759</th>\n",
       "      <td>2019-12-31</td>\n",
       "      <td>telephone</td>\n",
       "      <td>Mont de Marsan</td>\n",
       "      <td>1143.882652</td>\n",
       "      <td>2019-12-31</td>\n",
       "      <td>2018-12-31</td>\n",
       "    </tr>\n",
       "  </tbody>\n",
       "</table>\n",
       "<p>4380 rows × 6 columns</p>\n",
       "</div>"
      ],
      "text/plain": [
       "            date  equipement           ville           CA processed_date  \\\n",
       "3285  2017-01-01  ordinateur        Bordeaux   270.941633     2017-01-01   \n",
       "3286  2017-01-02  ordinateur        Bordeaux  1894.634278     2017-01-02   \n",
       "3287  2017-01-03  ordinateur        Bordeaux  1963.790266     2017-01-03   \n",
       "3288  2017-01-04  ordinateur        Bordeaux  1560.772008     2017-01-04   \n",
       "3289  2017-01-05  ordinateur        Bordeaux  1370.575521     2017-01-05   \n",
       "...          ...         ...             ...          ...            ...   \n",
       "8755  2019-12-27   telephone  Mont de Marsan  1867.309990     2019-12-27   \n",
       "8756  2019-12-28   telephone  Mont de Marsan   676.055161     2019-12-28   \n",
       "8757  2019-12-29   telephone  Mont de Marsan   187.797757     2019-12-29   \n",
       "8758  2019-12-30   telephone  Mont de Marsan   250.705047     2019-12-30   \n",
       "8759  2019-12-31   telephone  Mont de Marsan  1143.882652     2019-12-31   \n",
       "\n",
       "     previous_year  \n",
       "3285    2016-01-02  \n",
       "3286    2016-01-03  \n",
       "3287    2016-01-04  \n",
       "3288    2016-01-05  \n",
       "3289    2016-01-06  \n",
       "...            ...  \n",
       "8755    2018-12-27  \n",
       "8756    2018-12-28  \n",
       "8757    2018-12-29  \n",
       "8758    2018-12-30  \n",
       "8759    2018-12-31  \n",
       "\n",
       "[4380 rows x 6 columns]"
      ]
     },
     "execution_count": 277,
     "metadata": {},
     "output_type": "execute_result"
    }
   ],
   "source": [
    "data_cities"
   ]
  },
  {
   "cell_type": "code",
   "execution_count": 278,
   "metadata": {},
   "outputs": [
    {
     "data": {
      "text/html": [
       "<div>\n",
       "<style scoped>\n",
       "    .dataframe tbody tr th:only-of-type {\n",
       "        vertical-align: middle;\n",
       "    }\n",
       "\n",
       "    .dataframe tbody tr th {\n",
       "        vertical-align: top;\n",
       "    }\n",
       "\n",
       "    .dataframe thead th {\n",
       "        text-align: right;\n",
       "    }\n",
       "</style>\n",
       "<table border=\"1\" class=\"dataframe\">\n",
       "  <thead>\n",
       "    <tr style=\"text-align: right;\">\n",
       "      <th></th>\n",
       "      <th>ville</th>\n",
       "      <th>date</th>\n",
       "      <th>CA</th>\n",
       "    </tr>\n",
       "  </thead>\n",
       "  <tbody>\n",
       "    <tr>\n",
       "      <th>0</th>\n",
       "      <td>Bordeaux</td>\n",
       "      <td>2017-01-01</td>\n",
       "      <td>698.943221</td>\n",
       "    </tr>\n",
       "    <tr>\n",
       "      <th>1</th>\n",
       "      <td>Bordeaux</td>\n",
       "      <td>2017-01-02</td>\n",
       "      <td>2488.772825</td>\n",
       "    </tr>\n",
       "    <tr>\n",
       "      <th>2</th>\n",
       "      <td>Bordeaux</td>\n",
       "      <td>2017-01-03</td>\n",
       "      <td>2193.420880</td>\n",
       "    </tr>\n",
       "    <tr>\n",
       "      <th>3</th>\n",
       "      <td>Bordeaux</td>\n",
       "      <td>2017-01-04</td>\n",
       "      <td>2027.977679</td>\n",
       "    </tr>\n",
       "    <tr>\n",
       "      <th>4</th>\n",
       "      <td>Bordeaux</td>\n",
       "      <td>2017-01-05</td>\n",
       "      <td>1964.652182</td>\n",
       "    </tr>\n",
       "    <tr>\n",
       "      <th>...</th>\n",
       "      <td>...</td>\n",
       "      <td>...</td>\n",
       "      <td>...</td>\n",
       "    </tr>\n",
       "    <tr>\n",
       "      <th>2185</th>\n",
       "      <td>Mont de Marsan</td>\n",
       "      <td>2019-12-27</td>\n",
       "      <td>5898.324017</td>\n",
       "    </tr>\n",
       "    <tr>\n",
       "      <th>2186</th>\n",
       "      <td>Mont de Marsan</td>\n",
       "      <td>2019-12-28</td>\n",
       "      <td>1521.860482</td>\n",
       "    </tr>\n",
       "    <tr>\n",
       "      <th>2187</th>\n",
       "      <td>Mont de Marsan</td>\n",
       "      <td>2019-12-29</td>\n",
       "      <td>961.054653</td>\n",
       "    </tr>\n",
       "    <tr>\n",
       "      <th>2188</th>\n",
       "      <td>Mont de Marsan</td>\n",
       "      <td>2019-12-30</td>\n",
       "      <td>7586.278627</td>\n",
       "    </tr>\n",
       "    <tr>\n",
       "      <th>2189</th>\n",
       "      <td>Mont de Marsan</td>\n",
       "      <td>2019-12-31</td>\n",
       "      <td>9486.672602</td>\n",
       "    </tr>\n",
       "  </tbody>\n",
       "</table>\n",
       "<p>2190 rows × 3 columns</p>\n",
       "</div>"
      ],
      "text/plain": [
       "               ville        date           CA\n",
       "0           Bordeaux  2017-01-01   698.943221\n",
       "1           Bordeaux  2017-01-02  2488.772825\n",
       "2           Bordeaux  2017-01-03  2193.420880\n",
       "3           Bordeaux  2017-01-04  2027.977679\n",
       "4           Bordeaux  2017-01-05  1964.652182\n",
       "...              ...         ...          ...\n",
       "2185  Mont de Marsan  2019-12-27  5898.324017\n",
       "2186  Mont de Marsan  2019-12-28  1521.860482\n",
       "2187  Mont de Marsan  2019-12-29   961.054653\n",
       "2188  Mont de Marsan  2019-12-30  7586.278627\n",
       "2189  Mont de Marsan  2019-12-31  9486.672602\n",
       "\n",
       "[2190 rows x 3 columns]"
      ]
     },
     "execution_count": 278,
     "metadata": {},
     "output_type": "execute_result"
    }
   ],
   "source": [
    "CA_cum = data_cities.groupby(by=['ville', 'date']).sum().reset_index()\n",
    "CA_cum"
   ]
  },
  {
   "cell_type": "code",
   "execution_count": 279,
   "metadata": {},
   "outputs": [
    {
     "ename": "KeyError",
     "evalue": "'equipement'",
     "output_type": "error",
     "traceback": [
      "\u001b[0;31m---------------------------------------------------------------------------\u001b[0m",
      "\u001b[0;31mKeyError\u001b[0m                                  Traceback (most recent call last)",
      "\u001b[0;32m/opt/anaconda3/lib/python3.7/site-packages/pandas/core/indexes/base.py\u001b[0m in \u001b[0;36mget_loc\u001b[0;34m(self, key, method, tolerance)\u001b[0m\n\u001b[1;32m   2894\u001b[0m             \u001b[0;32mtry\u001b[0m\u001b[0;34m:\u001b[0m\u001b[0;34m\u001b[0m\u001b[0;34m\u001b[0m\u001b[0m\n\u001b[0;32m-> 2895\u001b[0;31m                 \u001b[0;32mreturn\u001b[0m \u001b[0mself\u001b[0m\u001b[0;34m.\u001b[0m\u001b[0m_engine\u001b[0m\u001b[0;34m.\u001b[0m\u001b[0mget_loc\u001b[0m\u001b[0;34m(\u001b[0m\u001b[0mcasted_key\u001b[0m\u001b[0;34m)\u001b[0m\u001b[0;34m\u001b[0m\u001b[0;34m\u001b[0m\u001b[0m\n\u001b[0m\u001b[1;32m   2896\u001b[0m             \u001b[0;32mexcept\u001b[0m \u001b[0mKeyError\u001b[0m \u001b[0;32mas\u001b[0m \u001b[0merr\u001b[0m\u001b[0;34m:\u001b[0m\u001b[0;34m\u001b[0m\u001b[0;34m\u001b[0m\u001b[0m\n",
      "\u001b[0;32mpandas/_libs/index.pyx\u001b[0m in \u001b[0;36mpandas._libs.index.IndexEngine.get_loc\u001b[0;34m()\u001b[0m\n",
      "\u001b[0;32mpandas/_libs/index.pyx\u001b[0m in \u001b[0;36mpandas._libs.index.IndexEngine.get_loc\u001b[0;34m()\u001b[0m\n",
      "\u001b[0;32mpandas/_libs/hashtable_class_helper.pxi\u001b[0m in \u001b[0;36mpandas._libs.hashtable.PyObjectHashTable.get_item\u001b[0;34m()\u001b[0m\n",
      "\u001b[0;32mpandas/_libs/hashtable_class_helper.pxi\u001b[0m in \u001b[0;36mpandas._libs.hashtable.PyObjectHashTable.get_item\u001b[0;34m()\u001b[0m\n",
      "\u001b[0;31mKeyError\u001b[0m: 'equipement'",
      "\nThe above exception was the direct cause of the following exception:\n",
      "\u001b[0;31mKeyError\u001b[0m                                  Traceback (most recent call last)",
      "\u001b[0;32m<ipython-input-279-7a38a7c83d85>\u001b[0m in \u001b[0;36m<module>\u001b[0;34m\u001b[0m\n\u001b[1;32m      5\u001b[0m \u001b[0;34m\u001b[0m\u001b[0m\n\u001b[1;32m      6\u001b[0m \u001b[0;34m\u001b[0m\u001b[0m\n\u001b[0;32m----> 7\u001b[0;31m \u001b[0mdata_cities\u001b[0m \u001b[0;34m=\u001b[0m \u001b[0mdata_cities\u001b[0m\u001b[0;34m.\u001b[0m\u001b[0massign\u001b[0m\u001b[0;34m(\u001b[0m \u001b[0mCA_cumul\u001b[0m \u001b[0;34m=\u001b[0m \u001b[0;32mlambda\u001b[0m \u001b[0mrow\u001b[0m \u001b[0;34m:\u001b[0m \u001b[0mCA_cum_f\u001b[0m\u001b[0;34m(\u001b[0m\u001b[0mrow\u001b[0m\u001b[0;34m)\u001b[0m \u001b[0;34m)\u001b[0m\u001b[0;34m\u001b[0m\u001b[0;34m\u001b[0m\u001b[0m\n\u001b[0m",
      "\u001b[0;32m/opt/anaconda3/lib/python3.7/site-packages/pandas/core/frame.py\u001b[0m in \u001b[0;36massign\u001b[0;34m(self, **kwargs)\u001b[0m\n\u001b[1;32m   3693\u001b[0m \u001b[0;34m\u001b[0m\u001b[0m\n\u001b[1;32m   3694\u001b[0m         \u001b[0;32mfor\u001b[0m \u001b[0mk\u001b[0m\u001b[0;34m,\u001b[0m \u001b[0mv\u001b[0m \u001b[0;32min\u001b[0m \u001b[0mkwargs\u001b[0m\u001b[0;34m.\u001b[0m\u001b[0mitems\u001b[0m\u001b[0;34m(\u001b[0m\u001b[0;34m)\u001b[0m\u001b[0;34m:\u001b[0m\u001b[0;34m\u001b[0m\u001b[0;34m\u001b[0m\u001b[0m\n\u001b[0;32m-> 3695\u001b[0;31m             \u001b[0mdata\u001b[0m\u001b[0;34m[\u001b[0m\u001b[0mk\u001b[0m\u001b[0;34m]\u001b[0m \u001b[0;34m=\u001b[0m \u001b[0mcom\u001b[0m\u001b[0;34m.\u001b[0m\u001b[0mapply_if_callable\u001b[0m\u001b[0;34m(\u001b[0m\u001b[0mv\u001b[0m\u001b[0;34m,\u001b[0m \u001b[0mdata\u001b[0m\u001b[0;34m)\u001b[0m\u001b[0;34m\u001b[0m\u001b[0;34m\u001b[0m\u001b[0m\n\u001b[0m\u001b[1;32m   3696\u001b[0m         \u001b[0;32mreturn\u001b[0m \u001b[0mdata\u001b[0m\u001b[0;34m\u001b[0m\u001b[0;34m\u001b[0m\u001b[0m\n\u001b[1;32m   3697\u001b[0m \u001b[0;34m\u001b[0m\u001b[0m\n",
      "\u001b[0;32m/opt/anaconda3/lib/python3.7/site-packages/pandas/core/common.py\u001b[0m in \u001b[0;36mapply_if_callable\u001b[0;34m(maybe_callable, obj, **kwargs)\u001b[0m\n\u001b[1;32m    339\u001b[0m     \"\"\"\n\u001b[1;32m    340\u001b[0m     \u001b[0;32mif\u001b[0m \u001b[0mcallable\u001b[0m\u001b[0;34m(\u001b[0m\u001b[0mmaybe_callable\u001b[0m\u001b[0;34m)\u001b[0m\u001b[0;34m:\u001b[0m\u001b[0;34m\u001b[0m\u001b[0;34m\u001b[0m\u001b[0m\n\u001b[0;32m--> 341\u001b[0;31m         \u001b[0;32mreturn\u001b[0m \u001b[0mmaybe_callable\u001b[0m\u001b[0;34m(\u001b[0m\u001b[0mobj\u001b[0m\u001b[0;34m,\u001b[0m \u001b[0;34m**\u001b[0m\u001b[0mkwargs\u001b[0m\u001b[0;34m)\u001b[0m\u001b[0;34m\u001b[0m\u001b[0;34m\u001b[0m\u001b[0m\n\u001b[0m\u001b[1;32m    342\u001b[0m \u001b[0;34m\u001b[0m\u001b[0m\n\u001b[1;32m    343\u001b[0m     \u001b[0;32mreturn\u001b[0m \u001b[0mmaybe_callable\u001b[0m\u001b[0;34m\u001b[0m\u001b[0;34m\u001b[0m\u001b[0m\n",
      "\u001b[0;32m<ipython-input-279-7a38a7c83d85>\u001b[0m in \u001b[0;36m<lambda>\u001b[0;34m(row)\u001b[0m\n\u001b[1;32m      5\u001b[0m \u001b[0;34m\u001b[0m\u001b[0m\n\u001b[1;32m      6\u001b[0m \u001b[0;34m\u001b[0m\u001b[0m\n\u001b[0;32m----> 7\u001b[0;31m \u001b[0mdata_cities\u001b[0m \u001b[0;34m=\u001b[0m \u001b[0mdata_cities\u001b[0m\u001b[0;34m.\u001b[0m\u001b[0massign\u001b[0m\u001b[0;34m(\u001b[0m \u001b[0mCA_cumul\u001b[0m \u001b[0;34m=\u001b[0m \u001b[0;32mlambda\u001b[0m \u001b[0mrow\u001b[0m \u001b[0;34m:\u001b[0m \u001b[0mCA_cum_f\u001b[0m\u001b[0;34m(\u001b[0m\u001b[0mrow\u001b[0m\u001b[0;34m)\u001b[0m \u001b[0;34m)\u001b[0m\u001b[0;34m\u001b[0m\u001b[0;34m\u001b[0m\u001b[0m\n\u001b[0m",
      "\u001b[0;32m<ipython-input-279-7a38a7c83d85>\u001b[0m in \u001b[0;36mCA_cum_f\u001b[0;34m(row)\u001b[0m\n\u001b[1;32m      1\u001b[0m \u001b[0;32mdef\u001b[0m \u001b[0mCA_cum_f\u001b[0m\u001b[0;34m(\u001b[0m\u001b[0mrow\u001b[0m\u001b[0;34m)\u001b[0m \u001b[0;34m:\u001b[0m\u001b[0;34m\u001b[0m\u001b[0;34m\u001b[0m\u001b[0m\n\u001b[1;32m      2\u001b[0m     ca_cum = CA_cum[(CA_cum['ville'] == row['ville'].iloc[0]) & \\\n\u001b[0;32m----> 3\u001b[0;31m                   (CA_cum['equipement'] == row['equipement'].iloc[0])]['CA']\n\u001b[0m\u001b[1;32m      4\u001b[0m     \u001b[0;32mreturn\u001b[0m \u001b[0mca_cum\u001b[0m\u001b[0;34m.\u001b[0m\u001b[0miloc\u001b[0m\u001b[0;34m[\u001b[0m\u001b[0;36m0\u001b[0m\u001b[0;34m]\u001b[0m\u001b[0;34m\u001b[0m\u001b[0;34m\u001b[0m\u001b[0m\n\u001b[1;32m      5\u001b[0m \u001b[0;34m\u001b[0m\u001b[0m\n",
      "\u001b[0;32m/opt/anaconda3/lib/python3.7/site-packages/pandas/core/frame.py\u001b[0m in \u001b[0;36m__getitem__\u001b[0;34m(self, key)\u001b[0m\n\u001b[1;32m   2900\u001b[0m             \u001b[0;32mif\u001b[0m \u001b[0mself\u001b[0m\u001b[0;34m.\u001b[0m\u001b[0mcolumns\u001b[0m\u001b[0;34m.\u001b[0m\u001b[0mnlevels\u001b[0m \u001b[0;34m>\u001b[0m \u001b[0;36m1\u001b[0m\u001b[0;34m:\u001b[0m\u001b[0;34m\u001b[0m\u001b[0;34m\u001b[0m\u001b[0m\n\u001b[1;32m   2901\u001b[0m                 \u001b[0;32mreturn\u001b[0m \u001b[0mself\u001b[0m\u001b[0;34m.\u001b[0m\u001b[0m_getitem_multilevel\u001b[0m\u001b[0;34m(\u001b[0m\u001b[0mkey\u001b[0m\u001b[0;34m)\u001b[0m\u001b[0;34m\u001b[0m\u001b[0;34m\u001b[0m\u001b[0m\n\u001b[0;32m-> 2902\u001b[0;31m             \u001b[0mindexer\u001b[0m \u001b[0;34m=\u001b[0m \u001b[0mself\u001b[0m\u001b[0;34m.\u001b[0m\u001b[0mcolumns\u001b[0m\u001b[0;34m.\u001b[0m\u001b[0mget_loc\u001b[0m\u001b[0;34m(\u001b[0m\u001b[0mkey\u001b[0m\u001b[0;34m)\u001b[0m\u001b[0;34m\u001b[0m\u001b[0;34m\u001b[0m\u001b[0m\n\u001b[0m\u001b[1;32m   2903\u001b[0m             \u001b[0;32mif\u001b[0m \u001b[0mis_integer\u001b[0m\u001b[0;34m(\u001b[0m\u001b[0mindexer\u001b[0m\u001b[0;34m)\u001b[0m\u001b[0;34m:\u001b[0m\u001b[0;34m\u001b[0m\u001b[0;34m\u001b[0m\u001b[0m\n\u001b[1;32m   2904\u001b[0m                 \u001b[0mindexer\u001b[0m \u001b[0;34m=\u001b[0m \u001b[0;34m[\u001b[0m\u001b[0mindexer\u001b[0m\u001b[0;34m]\u001b[0m\u001b[0;34m\u001b[0m\u001b[0;34m\u001b[0m\u001b[0m\n",
      "\u001b[0;32m/opt/anaconda3/lib/python3.7/site-packages/pandas/core/indexes/base.py\u001b[0m in \u001b[0;36mget_loc\u001b[0;34m(self, key, method, tolerance)\u001b[0m\n\u001b[1;32m   2895\u001b[0m                 \u001b[0;32mreturn\u001b[0m \u001b[0mself\u001b[0m\u001b[0;34m.\u001b[0m\u001b[0m_engine\u001b[0m\u001b[0;34m.\u001b[0m\u001b[0mget_loc\u001b[0m\u001b[0;34m(\u001b[0m\u001b[0mcasted_key\u001b[0m\u001b[0;34m)\u001b[0m\u001b[0;34m\u001b[0m\u001b[0;34m\u001b[0m\u001b[0m\n\u001b[1;32m   2896\u001b[0m             \u001b[0;32mexcept\u001b[0m \u001b[0mKeyError\u001b[0m \u001b[0;32mas\u001b[0m \u001b[0merr\u001b[0m\u001b[0;34m:\u001b[0m\u001b[0;34m\u001b[0m\u001b[0;34m\u001b[0m\u001b[0m\n\u001b[0;32m-> 2897\u001b[0;31m                 \u001b[0;32mraise\u001b[0m \u001b[0mKeyError\u001b[0m\u001b[0;34m(\u001b[0m\u001b[0mkey\u001b[0m\u001b[0;34m)\u001b[0m \u001b[0;32mfrom\u001b[0m \u001b[0merr\u001b[0m\u001b[0;34m\u001b[0m\u001b[0;34m\u001b[0m\u001b[0m\n\u001b[0m\u001b[1;32m   2898\u001b[0m \u001b[0;34m\u001b[0m\u001b[0m\n\u001b[1;32m   2899\u001b[0m         \u001b[0;32mif\u001b[0m \u001b[0mtolerance\u001b[0m \u001b[0;32mis\u001b[0m \u001b[0;32mnot\u001b[0m \u001b[0;32mNone\u001b[0m\u001b[0;34m:\u001b[0m\u001b[0;34m\u001b[0m\u001b[0;34m\u001b[0m\u001b[0m\n",
      "\u001b[0;31mKeyError\u001b[0m: 'equipement'"
     ]
    }
   ],
   "source": [
    "def CA_cum_f(row) :\n",
    "    ca_cum = CA_cum[(CA_cum['ville'] == row['ville'].iloc[0]) & \\\n",
    "                  (CA_cum['equipement'] == row['equipement'].iloc[0])]['CA']\n",
    "    return ca_cum.iloc[0]\n",
    "\n",
    "\n",
    "data_cities = data_cities.assign( CA_cumul = lambda row : CA_cum_f(row) )"
   ]
  },
  {
   "cell_type": "code",
   "execution_count": 280,
   "metadata": {},
   "outputs": [],
   "source": [
    "def CA_previous_year(row) :\n",
    "    ca = data_cities[(data_cities['date'] == row['previous_year'].iloc[0]) & \\\n",
    "                       (data_cities['ville'] == row['ville'].iloc[0]) & \\\n",
    "                       (data_cities['equipement'] == row['equipement'].iloc[0])]['CA']\n",
    "    return ca\n",
    "\n",
    "\n",
    "data_cities = data_cities.assign( CA_previous_year = lambda row : CA_previous_year(row) )"
   ]
  },
  {
   "cell_type": "code",
   "execution_count": 282,
   "metadata": {},
   "outputs": [],
   "source": [
    "data_cities['weekday'] = data_cities['processed_date'].apply(lambda row : calendar.day_name[row.weekday()] )"
   ]
  },
  {
   "cell_type": "code",
   "execution_count": 283,
   "metadata": {},
   "outputs": [],
   "source": [
    "data_cities['is_weekend'] = data_cities['weekday'].apply(lambda row : row in ['Sunday', 'Saturday'] )"
   ]
  },
  {
   "cell_type": "code",
   "execution_count": 288,
   "metadata": {},
   "outputs": [
    {
     "data": {
      "text/plain": [
       "array([2017, 2018, 2019])"
      ]
     },
     "execution_count": 288,
     "metadata": {},
     "output_type": "execute_result"
    }
   ],
   "source": [
    "years_list = data_cities.loc[:, 'date'].apply(lambda row : int(row.split('-', 2)[0])).unique()\n",
    "#years_list"
   ]
  },
  {
   "cell_type": "code",
   "execution_count": 296,
   "metadata": {},
   "outputs": [],
   "source": [
    "hols = []\n",
    "for date in holidays.France(years=years_list).items() :\n",
    "    hols.append(date[0])\n",
    "\n",
    "    #hols"
   ]
  },
  {
   "cell_type": "code",
   "execution_count": 298,
   "metadata": {},
   "outputs": [],
   "source": [
    "data_cities['is_bankholiday'] = data_cities['processed_date'].apply(lambda row : row in hols)"
   ]
  },
  {
   "cell_type": "code",
   "execution_count": null,
   "metadata": {},
   "outputs": [],
   "source": []
  },
  {
   "cell_type": "code",
   "execution_count": null,
   "metadata": {},
   "outputs": [],
   "source": []
  },
  {
   "cell_type": "code",
   "execution_count": null,
   "metadata": {},
   "outputs": [],
   "source": []
  },
  {
   "cell_type": "code",
   "execution_count": null,
   "metadata": {},
   "outputs": [],
   "source": []
  },
  {
   "cell_type": "code",
   "execution_count": 171,
   "metadata": {},
   "outputs": [],
   "source": []
  },
  {
   "cell_type": "code",
   "execution_count": null,
   "metadata": {},
   "outputs": [],
   "source": []
  },
  {
   "cell_type": "code",
   "execution_count": 301,
   "metadata": {},
   "outputs": [
    {
     "data": {
      "text/html": [
       "<div>\n",
       "<style scoped>\n",
       "    .dataframe tbody tr th:only-of-type {\n",
       "        vertical-align: middle;\n",
       "    }\n",
       "\n",
       "    .dataframe tbody tr th {\n",
       "        vertical-align: top;\n",
       "    }\n",
       "\n",
       "    .dataframe thead th {\n",
       "        text-align: right;\n",
       "    }\n",
       "</style>\n",
       "<table border=\"1\" class=\"dataframe\">\n",
       "  <thead>\n",
       "    <tr style=\"text-align: right;\">\n",
       "      <th></th>\n",
       "      <th>date</th>\n",
       "      <th>equipement</th>\n",
       "      <th>ville</th>\n",
       "      <th>CA</th>\n",
       "      <th>processed_date</th>\n",
       "      <th>previous_year</th>\n",
       "      <th>CA_previous_year</th>\n",
       "      <th>weekday</th>\n",
       "      <th>is_weekend</th>\n",
       "      <th>is_bankholiday</th>\n",
       "    </tr>\n",
       "  </thead>\n",
       "  <tbody>\n",
       "    <tr>\n",
       "      <th>3285</th>\n",
       "      <td>2017-01-01</td>\n",
       "      <td>ordinateur</td>\n",
       "      <td>Bordeaux</td>\n",
       "      <td>270.941633</td>\n",
       "      <td>2017-01-01</td>\n",
       "      <td>2016-01-02</td>\n",
       "      <td>NaN</td>\n",
       "      <td>Sunday</td>\n",
       "      <td>True</td>\n",
       "      <td>True</td>\n",
       "    </tr>\n",
       "    <tr>\n",
       "      <th>3286</th>\n",
       "      <td>2017-01-02</td>\n",
       "      <td>ordinateur</td>\n",
       "      <td>Bordeaux</td>\n",
       "      <td>1894.634278</td>\n",
       "      <td>2017-01-02</td>\n",
       "      <td>2016-01-03</td>\n",
       "      <td>NaN</td>\n",
       "      <td>Monday</td>\n",
       "      <td>False</td>\n",
       "      <td>False</td>\n",
       "    </tr>\n",
       "    <tr>\n",
       "      <th>3287</th>\n",
       "      <td>2017-01-03</td>\n",
       "      <td>ordinateur</td>\n",
       "      <td>Bordeaux</td>\n",
       "      <td>1963.790266</td>\n",
       "      <td>2017-01-03</td>\n",
       "      <td>2016-01-04</td>\n",
       "      <td>NaN</td>\n",
       "      <td>Tuesday</td>\n",
       "      <td>False</td>\n",
       "      <td>False</td>\n",
       "    </tr>\n",
       "    <tr>\n",
       "      <th>3288</th>\n",
       "      <td>2017-01-04</td>\n",
       "      <td>ordinateur</td>\n",
       "      <td>Bordeaux</td>\n",
       "      <td>1560.772008</td>\n",
       "      <td>2017-01-04</td>\n",
       "      <td>2016-01-05</td>\n",
       "      <td>NaN</td>\n",
       "      <td>Wednesday</td>\n",
       "      <td>False</td>\n",
       "      <td>False</td>\n",
       "    </tr>\n",
       "    <tr>\n",
       "      <th>3289</th>\n",
       "      <td>2017-01-05</td>\n",
       "      <td>ordinateur</td>\n",
       "      <td>Bordeaux</td>\n",
       "      <td>1370.575521</td>\n",
       "      <td>2017-01-05</td>\n",
       "      <td>2016-01-06</td>\n",
       "      <td>NaN</td>\n",
       "      <td>Thursday</td>\n",
       "      <td>False</td>\n",
       "      <td>False</td>\n",
       "    </tr>\n",
       "    <tr>\n",
       "      <th>...</th>\n",
       "      <td>...</td>\n",
       "      <td>...</td>\n",
       "      <td>...</td>\n",
       "      <td>...</td>\n",
       "      <td>...</td>\n",
       "      <td>...</td>\n",
       "      <td>...</td>\n",
       "      <td>...</td>\n",
       "      <td>...</td>\n",
       "      <td>...</td>\n",
       "    </tr>\n",
       "    <tr>\n",
       "      <th>8755</th>\n",
       "      <td>2019-12-27</td>\n",
       "      <td>telephone</td>\n",
       "      <td>Mont de Marsan</td>\n",
       "      <td>1867.309990</td>\n",
       "      <td>2019-12-27</td>\n",
       "      <td>2018-12-27</td>\n",
       "      <td>NaN</td>\n",
       "      <td>Friday</td>\n",
       "      <td>False</td>\n",
       "      <td>False</td>\n",
       "    </tr>\n",
       "    <tr>\n",
       "      <th>8756</th>\n",
       "      <td>2019-12-28</td>\n",
       "      <td>telephone</td>\n",
       "      <td>Mont de Marsan</td>\n",
       "      <td>676.055161</td>\n",
       "      <td>2019-12-28</td>\n",
       "      <td>2018-12-28</td>\n",
       "      <td>NaN</td>\n",
       "      <td>Saturday</td>\n",
       "      <td>True</td>\n",
       "      <td>False</td>\n",
       "    </tr>\n",
       "    <tr>\n",
       "      <th>8757</th>\n",
       "      <td>2019-12-29</td>\n",
       "      <td>telephone</td>\n",
       "      <td>Mont de Marsan</td>\n",
       "      <td>187.797757</td>\n",
       "      <td>2019-12-29</td>\n",
       "      <td>2018-12-29</td>\n",
       "      <td>NaN</td>\n",
       "      <td>Sunday</td>\n",
       "      <td>True</td>\n",
       "      <td>False</td>\n",
       "    </tr>\n",
       "    <tr>\n",
       "      <th>8758</th>\n",
       "      <td>2019-12-30</td>\n",
       "      <td>telephone</td>\n",
       "      <td>Mont de Marsan</td>\n",
       "      <td>250.705047</td>\n",
       "      <td>2019-12-30</td>\n",
       "      <td>2018-12-30</td>\n",
       "      <td>NaN</td>\n",
       "      <td>Monday</td>\n",
       "      <td>False</td>\n",
       "      <td>False</td>\n",
       "    </tr>\n",
       "    <tr>\n",
       "      <th>8759</th>\n",
       "      <td>2019-12-31</td>\n",
       "      <td>telephone</td>\n",
       "      <td>Mont de Marsan</td>\n",
       "      <td>1143.882652</td>\n",
       "      <td>2019-12-31</td>\n",
       "      <td>2018-12-31</td>\n",
       "      <td>NaN</td>\n",
       "      <td>Tuesday</td>\n",
       "      <td>False</td>\n",
       "      <td>False</td>\n",
       "    </tr>\n",
       "  </tbody>\n",
       "</table>\n",
       "<p>4380 rows × 10 columns</p>\n",
       "</div>"
      ],
      "text/plain": [
       "            date  equipement           ville           CA processed_date  \\\n",
       "3285  2017-01-01  ordinateur        Bordeaux   270.941633     2017-01-01   \n",
       "3286  2017-01-02  ordinateur        Bordeaux  1894.634278     2017-01-02   \n",
       "3287  2017-01-03  ordinateur        Bordeaux  1963.790266     2017-01-03   \n",
       "3288  2017-01-04  ordinateur        Bordeaux  1560.772008     2017-01-04   \n",
       "3289  2017-01-05  ordinateur        Bordeaux  1370.575521     2017-01-05   \n",
       "...          ...         ...             ...          ...            ...   \n",
       "8755  2019-12-27   telephone  Mont de Marsan  1867.309990     2019-12-27   \n",
       "8756  2019-12-28   telephone  Mont de Marsan   676.055161     2019-12-28   \n",
       "8757  2019-12-29   telephone  Mont de Marsan   187.797757     2019-12-29   \n",
       "8758  2019-12-30   telephone  Mont de Marsan   250.705047     2019-12-30   \n",
       "8759  2019-12-31   telephone  Mont de Marsan  1143.882652     2019-12-31   \n",
       "\n",
       "     previous_year  CA_previous_year    weekday  is_weekend  is_bankholiday  \n",
       "3285    2016-01-02               NaN     Sunday        True            True  \n",
       "3286    2016-01-03               NaN     Monday       False           False  \n",
       "3287    2016-01-04               NaN    Tuesday       False           False  \n",
       "3288    2016-01-05               NaN  Wednesday       False           False  \n",
       "3289    2016-01-06               NaN   Thursday       False           False  \n",
       "...            ...               ...        ...         ...             ...  \n",
       "8755    2018-12-27               NaN     Friday       False           False  \n",
       "8756    2018-12-28               NaN   Saturday        True           False  \n",
       "8757    2018-12-29               NaN     Sunday        True           False  \n",
       "8758    2018-12-30               NaN     Monday       False           False  \n",
       "8759    2018-12-31               NaN    Tuesday       False           False  \n",
       "\n",
       "[4380 rows x 10 columns]"
      ]
     },
     "execution_count": 301,
     "metadata": {},
     "output_type": "execute_result"
    }
   ],
   "source": [
    "data_cities"
   ]
  },
  {
   "cell_type": "code",
   "execution_count": null,
   "metadata": {},
   "outputs": [],
   "source": []
  },
  {
   "cell_type": "code",
   "execution_count": 308,
   "metadata": {},
   "outputs": [],
   "source": [
    "def min_dist(d, L_d) :\n",
    "    for l_d in L_d :\n",
    "        print(l_d - d)\n",
    "    #return "
   ]
  },
  {
   "cell_type": "code",
   "execution_count": 310,
   "metadata": {},
   "outputs": [
    {
     "ename": "TypeError",
     "evalue": "unsupported operand type(s) for -: 'datetime.date' and 'Timestamp'",
     "output_type": "error",
     "traceback": [
      "\u001b[0;31m---------------------------------------------------------------------------\u001b[0m",
      "\u001b[0;31mTypeError\u001b[0m                                 Traceback (most recent call last)",
      "\u001b[0;32m<ipython-input-310-dcd30c9b3073>\u001b[0m in \u001b[0;36m<module>\u001b[0;34m\u001b[0m\n\u001b[1;32m      1\u001b[0m \u001b[0mdata_cities\u001b[0m\u001b[0;34m[\u001b[0m\u001b[0;34m'distance_between_closest_bank_holiday'\u001b[0m\u001b[0;34m]\u001b[0m \u001b[0;34m=\u001b[0m\u001b[0;31m \u001b[0m\u001b[0;31m\\\u001b[0m\u001b[0;34m\u001b[0m\u001b[0;34m\u001b[0m\u001b[0m\n\u001b[0;32m----> 2\u001b[0;31m \u001b[0mdata_cities\u001b[0m\u001b[0;34m[\u001b[0m\u001b[0;34m'processed_date'\u001b[0m\u001b[0;34m]\u001b[0m\u001b[0;34m.\u001b[0m\u001b[0mapply\u001b[0m\u001b[0;34m(\u001b[0m\u001b[0;32mlambda\u001b[0m \u001b[0mrow\u001b[0m \u001b[0;34m:\u001b[0m \u001b[0mmin_dist\u001b[0m\u001b[0;34m(\u001b[0m\u001b[0mrow\u001b[0m\u001b[0;34m,\u001b[0m \u001b[0mhols\u001b[0m\u001b[0;34m)\u001b[0m\u001b[0;34m)\u001b[0m\u001b[0;34m\u001b[0m\u001b[0;34m\u001b[0m\u001b[0m\n\u001b[0m",
      "\u001b[0;32m/opt/anaconda3/lib/python3.7/site-packages/pandas/core/series.py\u001b[0m in \u001b[0;36mapply\u001b[0;34m(self, func, convert_dtype, args, **kwds)\u001b[0m\n\u001b[1;32m   4198\u001b[0m             \u001b[0;32melse\u001b[0m\u001b[0;34m:\u001b[0m\u001b[0;34m\u001b[0m\u001b[0;34m\u001b[0m\u001b[0m\n\u001b[1;32m   4199\u001b[0m                 \u001b[0mvalues\u001b[0m \u001b[0;34m=\u001b[0m \u001b[0mself\u001b[0m\u001b[0;34m.\u001b[0m\u001b[0mastype\u001b[0m\u001b[0;34m(\u001b[0m\u001b[0mobject\u001b[0m\u001b[0;34m)\u001b[0m\u001b[0;34m.\u001b[0m\u001b[0m_values\u001b[0m\u001b[0;34m\u001b[0m\u001b[0;34m\u001b[0m\u001b[0m\n\u001b[0;32m-> 4200\u001b[0;31m                 \u001b[0mmapped\u001b[0m \u001b[0;34m=\u001b[0m \u001b[0mlib\u001b[0m\u001b[0;34m.\u001b[0m\u001b[0mmap_infer\u001b[0m\u001b[0;34m(\u001b[0m\u001b[0mvalues\u001b[0m\u001b[0;34m,\u001b[0m \u001b[0mf\u001b[0m\u001b[0;34m,\u001b[0m \u001b[0mconvert\u001b[0m\u001b[0;34m=\u001b[0m\u001b[0mconvert_dtype\u001b[0m\u001b[0;34m)\u001b[0m\u001b[0;34m\u001b[0m\u001b[0;34m\u001b[0m\u001b[0m\n\u001b[0m\u001b[1;32m   4201\u001b[0m \u001b[0;34m\u001b[0m\u001b[0m\n\u001b[1;32m   4202\u001b[0m         \u001b[0;32mif\u001b[0m \u001b[0mlen\u001b[0m\u001b[0;34m(\u001b[0m\u001b[0mmapped\u001b[0m\u001b[0;34m)\u001b[0m \u001b[0;32mand\u001b[0m \u001b[0misinstance\u001b[0m\u001b[0;34m(\u001b[0m\u001b[0mmapped\u001b[0m\u001b[0;34m[\u001b[0m\u001b[0;36m0\u001b[0m\u001b[0;34m]\u001b[0m\u001b[0;34m,\u001b[0m \u001b[0mSeries\u001b[0m\u001b[0;34m)\u001b[0m\u001b[0;34m:\u001b[0m\u001b[0;34m\u001b[0m\u001b[0;34m\u001b[0m\u001b[0m\n",
      "\u001b[0;32mpandas/_libs/lib.pyx\u001b[0m in \u001b[0;36mpandas._libs.lib.map_infer\u001b[0;34m()\u001b[0m\n",
      "\u001b[0;32m<ipython-input-310-dcd30c9b3073>\u001b[0m in \u001b[0;36m<lambda>\u001b[0;34m(row)\u001b[0m\n\u001b[1;32m      1\u001b[0m \u001b[0mdata_cities\u001b[0m\u001b[0;34m[\u001b[0m\u001b[0;34m'distance_between_closest_bank_holiday'\u001b[0m\u001b[0;34m]\u001b[0m \u001b[0;34m=\u001b[0m\u001b[0;31m \u001b[0m\u001b[0;31m\\\u001b[0m\u001b[0;34m\u001b[0m\u001b[0;34m\u001b[0m\u001b[0m\n\u001b[0;32m----> 2\u001b[0;31m \u001b[0mdata_cities\u001b[0m\u001b[0;34m[\u001b[0m\u001b[0;34m'processed_date'\u001b[0m\u001b[0;34m]\u001b[0m\u001b[0;34m.\u001b[0m\u001b[0mapply\u001b[0m\u001b[0;34m(\u001b[0m\u001b[0;32mlambda\u001b[0m \u001b[0mrow\u001b[0m \u001b[0;34m:\u001b[0m \u001b[0mmin_dist\u001b[0m\u001b[0;34m(\u001b[0m\u001b[0mrow\u001b[0m\u001b[0;34m,\u001b[0m \u001b[0mhols\u001b[0m\u001b[0;34m)\u001b[0m\u001b[0;34m)\u001b[0m\u001b[0;34m\u001b[0m\u001b[0;34m\u001b[0m\u001b[0m\n\u001b[0m",
      "\u001b[0;32m<ipython-input-308-090974e3db1b>\u001b[0m in \u001b[0;36mmin_dist\u001b[0;34m(d, L_d)\u001b[0m\n\u001b[1;32m      1\u001b[0m \u001b[0;32mdef\u001b[0m \u001b[0mmin_dist\u001b[0m\u001b[0;34m(\u001b[0m\u001b[0md\u001b[0m\u001b[0;34m,\u001b[0m \u001b[0mL_d\u001b[0m\u001b[0;34m)\u001b[0m \u001b[0;34m:\u001b[0m\u001b[0;34m\u001b[0m\u001b[0;34m\u001b[0m\u001b[0m\n\u001b[1;32m      2\u001b[0m     \u001b[0;32mfor\u001b[0m \u001b[0ml_d\u001b[0m \u001b[0;32min\u001b[0m \u001b[0mL_d\u001b[0m \u001b[0;34m:\u001b[0m\u001b[0;34m\u001b[0m\u001b[0;34m\u001b[0m\u001b[0m\n\u001b[0;32m----> 3\u001b[0;31m         \u001b[0mprint\u001b[0m\u001b[0;34m(\u001b[0m\u001b[0ml_d\u001b[0m \u001b[0;34m-\u001b[0m \u001b[0md\u001b[0m\u001b[0;34m)\u001b[0m\u001b[0;34m\u001b[0m\u001b[0;34m\u001b[0m\u001b[0m\n\u001b[0m\u001b[1;32m      4\u001b[0m     \u001b[0;31m#return\u001b[0m\u001b[0;34m\u001b[0m\u001b[0;34m\u001b[0m\u001b[0;34m\u001b[0m\u001b[0m\n",
      "\u001b[0;31mTypeError\u001b[0m: unsupported operand type(s) for -: 'datetime.date' and 'Timestamp'"
     ]
    }
   ],
   "source": [
    "data_cities['distance_between_closest_bank_holiday'] = \\\n",
    "data_cities['processed_date'].apply(lambda row : min_dist(row, hols))"
   ]
  },
  {
   "cell_type": "code",
   "execution_count": null,
   "metadata": {},
   "outputs": [],
   "source": [
    "min_dist(row, hols)"
   ]
  },
  {
   "cell_type": "code",
   "execution_count": null,
   "metadata": {},
   "outputs": [],
   "source": []
  },
  {
   "cell_type": "code",
   "execution_count": null,
   "metadata": {},
   "outputs": [],
   "source": []
  },
  {
   "cell_type": "code",
   "execution_count": null,
   "metadata": {},
   "outputs": [],
   "source": []
  },
  {
   "cell_type": "code",
   "execution_count": null,
   "metadata": {},
   "outputs": [],
   "source": []
  },
  {
   "cell_type": "code",
   "execution_count": null,
   "metadata": {},
   "outputs": [],
   "source": []
  },
  {
   "cell_type": "code",
   "execution_count": null,
   "metadata": {},
   "outputs": [],
   "source": []
  },
  {
   "cell_type": "code",
   "execution_count": null,
   "metadata": {},
   "outputs": [],
   "source": []
  },
  {
   "cell_type": "code",
   "execution_count": null,
   "metadata": {},
   "outputs": [],
   "source": []
  },
  {
   "cell_type": "code",
   "execution_count": null,
   "metadata": {},
   "outputs": [],
   "source": []
  },
  {
   "cell_type": "code",
   "execution_count": null,
   "metadata": {},
   "outputs": [],
   "source": []
  },
  {
   "cell_type": "code",
   "execution_count": null,
   "metadata": {},
   "outputs": [],
   "source": []
  }
 ],
 "metadata": {
  "kernelspec": {
   "display_name": "Python 3",
   "language": "python",
   "name": "python3"
  },
  "language_info": {
   "codemirror_mode": {
    "name": "ipython",
    "version": 3
   },
   "file_extension": ".py",
   "mimetype": "text/x-python",
   "name": "python",
   "nbconvert_exporter": "python",
   "pygments_lexer": "ipython3",
   "version": "3.7.4"
  }
 },
 "nbformat": 4,
 "nbformat_minor": 2
}
